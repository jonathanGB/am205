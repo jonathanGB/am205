{
 "cells": [
  {
   "cell_type": "markdown",
   "metadata": {},
   "source": [
    "# AM 205 - Assignment 1\n",
    "## By Jonathan Guillotte-Blouin"
   ]
  },
  {
   "cell_type": "code",
   "execution_count": 2,
   "metadata": {},
   "outputs": [],
   "source": [
    "import numpy as np\n",
    "import numpy.linalg as la\n",
    "import scipy.stats\n",
    "import matplotlib\n",
    "import matplotlib.pyplot as plt"
   ]
  },
  {
   "cell_type": "markdown",
   "metadata": {},
   "source": [
    "### Question 1: Polynomial approximation of the gamma function\n",
    "\n",
    "We have the following points:\n",
    "\n",
    "| n   | 1 | 2 | 3 | 4 |  5 |\n",
    "|-----|:-:|---|:-:|---|:--:|\n",
    "| $\\tau(n)$ | 1 | 1 | 2 | 6 | 24 |"
   ]
  },
  {
   "cell_type": "markdown",
   "metadata": {},
   "source": [
    "#### a) Write the interpolant of $\\tau(n)$ as $g(x) = \\sum_{k=0}^4g_kx^k$\n",
    "\n",
    "We first want to find the coefficients\n",
    "\n",
    "$$g_0 = 1 \\frac{(x - 2)(x - 3)(x - 4)(x-5)}{(1 - 2)(1 - 3)(1 - 4)(1 - 5)} = \\frac{(x - 2)(x - 3)(x - 4)(x-5)}{24}$$\n",
    "\n",
    "$$g_1 = 1 \\frac{(x - 1)(x - 3)(x - 4)(x-5)}{(2 - 1)(2 - 3)(2 - 4)(2 - 5)} = -\\frac{(x - 1)(x - 3)(x - 4)(x-5)}{6}$$\n",
    "\n",
    "$$g_2 = 2 \\frac{(x - 1)(x - 2)(x - 4)(x-5)}{(3 - 1)(3 - 2)(3 - 4)(3 - 5)} = \\frac{(x - 1)(x - 2)(x - 4)(x-5)}{2}$$\n",
    "\n",
    "$$g_3 = 6 \\frac{(x - 1)(x - 2)(x - 3)(x-5)}{(4 - 1)(4 - 2)(4 - 3)(4 - 5)} = -(x - 1)(x - 2)(x - 3)(x-5)$$\n",
    "\n",
    "$$g_4 = 24 \\frac{(x - 1)(x - 2)(x - 3)(x - 4)}{(5 - 1)(5 - 2)(5 - 3)(5 - 4)} = (x - 1)(x - 2)(x - 3)(x - 4)$$\n",
    "\n",
    "Our interpolant therefore is\n",
    "\n",
    "$$g(x) = \\frac{(x - 2)(x - 3)(x - 4)(x-5)}{24} - \\frac{(x - 1)(x - 3)(x - 4)(x-5)}{6} + \\frac{(x - 1)(x - 2)(x - 4)(x-5)}{2} - (x - 1)(x - 2)(x - 3)(x-5) + (x - 1)(x - 2)(x - 3)(x - 4)$$"
   ]
  },
  {
   "cell_type": "code",
   "execution_count": 3,
   "metadata": {},
   "outputs": [
    {
     "name": "stdout",
     "output_type": "stream",
     "text": [
      "Let's try our interpolant with the five given data points\n",
      "g(1) = 1.0\n",
      "g(2) = 1.0\n",
      "g(3) = 2.0\n",
      "g(4) = 6.0\n",
      "g(5) = 24.0\n"
     ]
    }
   ],
   "source": [
    "def g(x):\n",
    "    g0 = (x - 2)*(x - 3)*(x - 4)*(x - 5)/24\n",
    "    g1 = -(x - 1)*(x - 3)*(x - 4)*(x - 5)/6\n",
    "    g2 = (x - 1)*(x - 2)*(x - 4)*(x - 5)/2\n",
    "    g3 = -(x - 1)*(x - 2)*(x - 3)*(x - 5)\n",
    "    g4 = (x - 1)*(x - 2)*(x - 3)*(x - 4)\n",
    "    \n",
    "    return g0 + g1 + g2 + g3 + g4\n",
    "\n",
    "print(\"Let's try our interpolant with the five given data points\")\n",
    "for x in range (1, 6):\n",
    "    print(\"g({}) = {}\".format(x, g(x)))"
   ]
  },
  {
   "cell_type": "markdown",
   "metadata": {},
   "source": [
    "#### b) Approximate on $(n, log(\\tau(n))$ for n=1,2,3,4,5 called $p(x)$. Then, define the approximation $h(x) = exp(p(x))$.\n",
    "\n",
    "$$p_0 = ln(1) \\frac{(x - 2)(x - 3)(x - 4)(x-5)}{(1 - 2)(1 - 3)(1 - 4)(1 - 5)} = 0$$\n",
    "\n",
    "$$p_1 = ln(1) \\frac{(x - 1)(x - 3)(x - 4)(x-5)}{(2 - 1)(2 - 3)(2 - 4)(2 - 5)} = 0$$\n",
    "\n",
    "$$p_2 = ln(2) \\frac{(x - 1)(x - 2)(x - 4)(x-5)}{(3 - 1)(3 - 2)(3 - 4)(3 - 5)} = ln(2)\\frac{(x - 1)(x - 2)(x - 4)(x-5)}{4}$$\n",
    "\n",
    "$$p_3 = ln(6) \\frac{(x - 1)(x - 2)(x - 3)(x-5)}{(4 - 1)(4 - 2)(4 - 3)(4 - 5)} = -ln(6)\\frac{(x - 1)(x - 2)(x - 3)(x-5)}{6}$$\n",
    "\n",
    "$$p_4 = ln(24) \\frac{(x - 1)(x - 2)(x - 3)(x - 4)}{(5 - 1)(5 - 2)(5 - 3)(5 - 4)} = ln(24)\\frac{(x - 1)(x - 2)(x - 3)(x - 4)}{24}$$\n",
    "\n",
    "Our interpolant therefore is\n",
    "\n",
    "$$p(x) = ln(2)\\frac{(x - 1)(x - 2)(x - 4)(x-5)}{4} - ln(6)\\frac{(x - 1)(x - 2)(x - 3)(x-5)}{6} + ln(24)\\frac{(x - 1)(x - 2)(x - 3)(x - 4)}{24}$$\n",
    "\n",
    "We can define $h(x) = e^{p(x)}$, so we get\n",
    "\n",
    "$$h(x) = e^{ln(2)\\frac{(x - 1)(x - 2)(x - 4)(x-5)}{4} - ln(6)\\frac{(x - 1)(x - 2)(x - 3)(x-5)}{6} + ln(24)\\frac{(x - 1)(x - 2)(x - 3)(x - 4)}{24}}$$\n",
    "\n",
    "If we stick with this complex form of $h(x)$, we might get some error (the implementation is called `h`). If we simplify this, however...\n",
    "\n",
    "$$h(x) = e^{ln(2)\\frac{(x - 1)(x - 2)(x - 4)(x-5)}{4}} e^{-ln(6)\\frac{(x - 1)(x - 2)(x - 3)(x-5)}{6}} e^{ln(24)\\frac{(x - 1)(x - 2)(x - 3)(x - 4)}{24}}$$\n",
    "\n",
    "$$h(x) = 2^{\\frac{(x - 1)(x - 2)(x - 4)(x-5)}{4}} 6^{-\\frac{(x - 1)(x - 2)(x - 3)(x-5)}{6}} 24^{\\frac{(x - 1)(x - 2)(x - 3)(x - 4)}{24}}$$\n",
    "\n",
    "This last simplified form is what we call `h_good`, as there is no error when computing the given data points."
   ]
  },
  {
   "cell_type": "code",
   "execution_count": 4,
   "metadata": {},
   "outputs": [
    {
     "name": "stdout",
     "output_type": "stream",
     "text": [
      "Let's try our interpolant with the five given data points\n",
      "h(1) = 1.0\n",
      "h_good(1) = 1.0\n",
      "h(2) = 1.0\n",
      "h_good(2) = 1.0\n",
      "h(3) = 2.0\n",
      "h_good(3) = 2.0\n",
      "h(4) = 6.000000000000001\n",
      "h_good(4) = 6.0\n",
      "h(5) = 24.000000000000004\n",
      "h_good(5) = 24.0\n"
     ]
    }
   ],
   "source": [
    "def p(x):\n",
    "    p2 = np.log(2) * (x - 1)*(x - 2)*(x - 4)*(x - 5) / 4\n",
    "    p3 = -np.log(6) * (x - 1)*(x - 2)*(x - 3)*(x - 5) / 6\n",
    "    p4 = np.log(24) * (x - 1)*(x - 2)*(x - 3)*(x - 4) / 24\n",
    "    \n",
    "    return p2 + p3 + p4\n",
    "\n",
    "def h(x):\n",
    "    return np.exp(p(x))\n",
    "    \n",
    "def h_good(x):\n",
    "    h2 = 2 ** ((x - 1)*(x - 2)*(x - 4)*(x - 5)/4)\n",
    "    h3 = 6 ** (-(x - 1)*(x - 2)*(x - 3)*(x - 5)/6)\n",
    "    h4 = 24 ** ((x - 1)*(x - 2)*(x - 3)*(x - 4)/24)\n",
    "    \n",
    "    return h2 * h3 * h4\n",
    "\n",
    "print(\"Let's try our interpolant with the five given data points\")\n",
    "for x in range (1, 6):\n",
    "    print(\"h({}) = {}\".format(x, h(x)))\n",
    "    print(\"h_good({}) = {}\".format(x, h_good(x)))"
   ]
  },
  {
   "cell_type": "markdown",
   "metadata": {},
   "source": [
    "#### c) Plot $\\tau(x)$, $g(x)$, and $h(x)$ on the interval $1 \\leq x \\leq 5$."
   ]
  },
  {
   "cell_type": "code",
   "execution_count": 9,
   "metadata": {},
   "outputs": [
    {
     "data": {
      "image/png": "[encoded data removed]",
      "text/plain": [
       "<Figure size 432x288 with 1 Axes>"
      ]
     },
     "metadata": {},
     "output_type": "display_data"
    }
   ],
   "source": [
    "from scipy.special import gamma\n",
    "\n",
    "domain = [1,2,3,4,5]\n",
    "gammaValues = [gamma(x) for x in domain]\n",
    "gValues = [g(x) for x in domain]\n",
    "hValues = [h(x) for x in domain]\n",
    "\n",
    "plt.title(\"Comparison of the gamma function to the approximation functions (g & h)\")\n",
    "\n",
    "# normal distribution overlay\n",
    "plt.plot(domain, gammaValues, 'g^', domain, gValues, 'b--', domain, hValues, 'r-.');\n",
    "plt.legend([\"gamma\", \"g(x)\", \"h(x)\"]);"
   ]
  },
  {
   "cell_type": "markdown",
   "metadata": {},
   "source": [
    "### Question 3: The condition number of a matrix"
   ]
  },
  {
   "cell_type": "markdown",
   "metadata": {},
   "source": [
    "#### a) Find two 2 x 2 invertible matrices B and C such that $\\kappa(B + C) < \\kappa(B) + \\kappa(C)$."
   ]
  },
  {
   "cell_type": "code",
   "execution_count": 26,
   "metadata": {},
   "outputs": [
    {
     "name": "stdout",
     "output_type": "stream",
     "text": [
      "B: [[1 2]\n",
      " [3 4]]\n",
      "C: [[5 6]\n",
      " [7 8]]\n",
      "k(B) + k(C): 102.00000000000004\n",
      "k(B+C) = 42.999999999999986\n",
      "Therefore, k(B + C) < k(B) + k(C)\n"
     ]
    }
   ],
   "source": [
    "# helper function to calculate kappa\n",
    "def kappa(A):\n",
    "    invA = la.inv(A)\n",
    "    return la.norm(A) * la.norm(invA)\n",
    "\n",
    "B1 = np.matrix([[1,2],[3,4]])\n",
    "C1 = np.matrix([[5,6],[7,8]])\n",
    "print(\"B: {}\\nC: {}\\nk(B) + k(C): {}\\nk(B+C) = {}\\nTherefore, k(B + C) < k(B) + k(C)\".format(B1, C1, kappa(B1) + kappa(C1), kappa(B1+C1)))"
   ]
  },
  {
   "cell_type": "markdown",
   "metadata": {},
   "source": [
    "#### b) Find two 2 x 2 invertible matrices B and C such that $\\kappa(B + C) > \\kappa(B) + \\kappa(C)$."
   ]
  },
  {
   "cell_type": "code",
   "execution_count": 29,
   "metadata": {},
   "outputs": [
    {
     "name": "stdout",
     "output_type": "stream",
     "text": [
      "B: [[0.44276891 0.61197261]\n",
      " [0.75210289 0.40432533]]\n",
      "C: [[0.85500081 0.0963679 ]\n",
      " [0.73602907 0.23405646]]\n",
      "k(B) + k(C): 14.969137750654804\n",
      "k(B+C) = 21.30916306194573\n",
      "Therefore, k(B + C) > k(B) + k(C)\n"
     ]
    }
   ],
   "source": [
    "while True:\n",
    "    B2 = np.random.rand(2,2)\n",
    "    C2 = np.random.rand(2,2)\n",
    "    \n",
    "    # B or C is a singular matrix, start over\n",
    "    if la.det(B2) == 0 or la.det(C2) == 0:\n",
    "        continue\n",
    "        \n",
    "    kappaB = kappa(B2)\n",
    "    kappaC = kappa(C2)\n",
    "    kappaBC = kappa(B2 + C2)\n",
    "    \n",
    "    # our valid kappas don't satisfy the condition of question b), start over\n",
    "    if kappaBC <= kappaB + kappaC:\n",
    "        continue\n",
    "        \n",
    "    # we've made it here, our kappas satisfy the condition of question b). print the result and stop\n",
    "    print(\"B: {}\\nC: {}\\nk(B) + k(C): {}\\nk(B+C) = {}\\nTherefore, k(B + C) > k(B) + k(C)\".format(B2, C2, kappaB + kappaC, kappaBC))\n",
    "    break"
   ]
  },
  {
   "cell_type": "markdown",
   "metadata": {},
   "source": [
    "#### c) Suppose that *A* is a symmetric invertible 2 x 2 matrix. Find $\\kappa(2A)$ and $\\kappa(A^2)$ in terms of  $\\kappa(A)$."
   ]
  },
  {
   "cell_type": "code",
   "execution_count": 55,
   "metadata": {},
   "outputs": [
    {
     "name": "stdout",
     "output_type": "stream",
     "text": [
      "k(A1): 3.333333333333334\n",
      "k(2 * A1): 3.333333333333334\n",
      "k(A1^2): 9.111111111111112\n",
      "\n",
      "k(A2): 2.9301095119371876\n",
      "k(2 * A2): 2.9301095119371876\n",
      "k(A2^2): 6.585541751944782\n",
      "\n"
     ]
    }
   ],
   "source": [
    "dummySymmetric1 = np.matrix([[1,2],[2,1]])\n",
    "print(\"k(A1): {}\".format(kappa(dummySymmetric1)))\n",
    "print(\"k(2 * A1): {}\".format(kappa(2*dummySymmetric1)))\n",
    "print(\"k(A1^2): {}\\n\".format(kappa(dummySymmetric1 ** 2)))\n",
    "\n",
    "dummySymmetric2 = np.matrix([[np.random.rand(), 0], [0, np.random.rand()]])\n",
    "print(\"k(A2): {}\".format(kappa(dummySymmetric2)))\n",
    "print(\"k(2 * A2): {}\".format(kappa(2*dummySymmetric2)))\n",
    "print(\"k(A2^2): {}\\n\".format(kappa(dummySymmetric2 ** 2)))\n",
    "\n",
    "# for i in range(0, 1000000):\n",
    "#     M = np.random.rand(2,2)\n",
    "#     kappaM = kappa(M)\n",
    "#     kappa2M = kappa(2*M)\n",
    "    \n",
    "#     if kappaM != kappa2M:\n",
    "#         print(M)\n",
    "#         print(\"k(M): {}\".format(kappaM))\n",
    "#         print(\"k(2 * M): {}\".format(kappa2M))\n",
    "#         break\n",
    "# print(\"nope\")"
   ]
  },
  {
   "cell_type": "markdown",
   "metadata": {},
   "source": [
    "With this experiment, we can get an intuition that:\n",
    "*  $\\kappa(2A) = \\kappa(A)$\n",
    "*  $\\kappa(A) < \\kappa(A^2) < (\\kappa(A))^2$\n",
    "\n",
    "Let's analyze this more formally."
   ]
  },
  {
   "cell_type": "code",
   "execution_count": 42,
   "metadata": {},
   "outputs": [
    {
     "data": {
      "text/plain": [
       "11.111111111111114"
      ]
     },
     "execution_count": 42,
     "metadata": {},
     "output_type": "execute_result"
    }
   ],
   "source": [
    "3.333333333333334 ** 2"
   ]
  },
  {
   "cell_type": "code",
   "execution_count": null,
   "metadata": {},
   "outputs": [],
   "source": []
  }
 ],
 "metadata": {
  "kernelspec": {
   "display_name": "Python 3",
   "language": "python",
   "name": "python3"
  },
  "language_info": {
   "codemirror_mode": {
    "name": "ipython",
    "version": 3
   },
   "file_extension": ".py",
   "mimetype": "text/x-python",
   "name": "python",
   "nbconvert_exporter": "python",
   "pygments_lexer": "ipython3",
   "version": "3.6.5"
  }
 },
 "nbformat": 4,
 "nbformat_minor": 2
}
