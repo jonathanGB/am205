{
 "cells": [
  {
   "cell_type": "markdown",
   "metadata": {},
   "source": [
    "# AM 205 - Assignment 1\n",
    "## By Jonathan Guillotte-Blouin"
   ]
  },
  {
   "cell_type": "code",
   "execution_count": 3,
   "metadata": {},
   "outputs": [],
   "source": [
    "import numpy as np\n",
    "import numpy.linalg as la\n",
    "import scipy.stats\n",
    "import matplotlib\n",
    "import matplotlib.pyplot as plt\n",
    "from skimage import io"
   ]
  },
  {
   "cell_type": "markdown",
   "metadata": {},
   "source": [
    "### Question 1: Polynomial approximation of the gamma function\n",
    "\n",
    "We have the following points:\n",
    "\n",
    "| n   | 1 | 2 | 3 | 4 |  5 |\n",
    "|-----|:-:|---|:-:|---|:--:|\n",
    "| $\\tau(n)$ | 1 | 1 | 2 | 6 | 24 |"
   ]
  },
  {
   "cell_type": "markdown",
   "metadata": {},
   "source": [
    "#### a) Write the interpolant of $\\tau(n)$ as $g(x) = \\sum_{k=0}^4g_kx^k$\n",
    "\n",
    "We first want to find the coefficients\n",
    "\n",
    "$$g_0 = 1 \\frac{(x - 2)(x - 3)(x - 4)(x-5)}{(1 - 2)(1 - 3)(1 - 4)(1 - 5)} = \\frac{(x - 2)(x - 3)(x - 4)(x-5)}{24}$$\n",
    "\n",
    "$$g_1 = 1 \\frac{(x - 1)(x - 3)(x - 4)(x-5)}{(2 - 1)(2 - 3)(2 - 4)(2 - 5)} = -\\frac{(x - 1)(x - 3)(x - 4)(x-5)}{6}$$\n",
    "\n",
    "$$g_2 = 2 \\frac{(x - 1)(x - 2)(x - 4)(x-5)}{(3 - 1)(3 - 2)(3 - 4)(3 - 5)} = \\frac{(x - 1)(x - 2)(x - 4)(x-5)}{2}$$\n",
    "\n",
    "$$g_3 = 6 \\frac{(x - 1)(x - 2)(x - 3)(x-5)}{(4 - 1)(4 - 2)(4 - 3)(4 - 5)} = -(x - 1)(x - 2)(x - 3)(x-5)$$\n",
    "\n",
    "$$g_4 = 24 \\frac{(x - 1)(x - 2)(x - 3)(x - 4)}{(5 - 1)(5 - 2)(5 - 3)(5 - 4)} = (x - 1)(x - 2)(x - 3)(x - 4)$$\n",
    "\n",
    "Our interpolant therefore is\n",
    "\n",
    "$$g(x) = \\frac{(x - 2)(x - 3)(x - 4)(x-5)}{24} - \\frac{(x - 1)(x - 3)(x - 4)(x-5)}{6} + \\frac{(x - 1)(x - 2)(x - 4)(x-5)}{2} - (x - 1)(x - 2)(x - 3)(x-5) + (x - 1)(x - 2)(x - 3)(x - 4)$$"
   ]
  },
  {
   "cell_type": "code",
   "execution_count": 3,
   "metadata": {},
   "outputs": [
    {
     "name": "stdout",
     "output_type": "stream",
     "text": [
      "Let's try our interpolant with the five given data points\n",
      "g(1) = 1.0\n",
      "g(2) = 1.0\n",
      "g(3) = 2.0\n",
      "g(4) = 6.0\n",
      "g(5) = 24.0\n"
     ]
    }
   ],
   "source": [
    "def g(x):\n",
    "    g0 = (x - 2)*(x - 3)*(x - 4)*(x - 5)/24\n",
    "    g1 = -(x - 1)*(x - 3)*(x - 4)*(x - 5)/6\n",
    "    g2 = (x - 1)*(x - 2)*(x - 4)*(x - 5)/2\n",
    "    g3 = -(x - 1)*(x - 2)*(x - 3)*(x - 5)\n",
    "    g4 = (x - 1)*(x - 2)*(x - 3)*(x - 4)\n",
    "    \n",
    "    return g0 + g1 + g2 + g3 + g4\n",
    "\n",
    "print(\"Let's try our interpolant with the five given data points\")\n",
    "for x in range (1, 6):\n",
    "    print(\"g({}) = {}\".format(x, g(x)))"
   ]
  },
  {
   "cell_type": "markdown",
   "metadata": {},
   "source": [
    "#### b) Approximate on $(n, log(\\tau(n))$ for n=1,2,3,4,5 called $p(x)$. Then, define the approximation $h(x) = exp(p(x))$.\n",
    "\n",
    "$$p_0 = ln(1) \\frac{(x - 2)(x - 3)(x - 4)(x-5)}{(1 - 2)(1 - 3)(1 - 4)(1 - 5)} = 0$$\n",
    "\n",
    "$$p_1 = ln(1) \\frac{(x - 1)(x - 3)(x - 4)(x-5)}{(2 - 1)(2 - 3)(2 - 4)(2 - 5)} = 0$$\n",
    "\n",
    "$$p_2 = ln(2) \\frac{(x - 1)(x - 2)(x - 4)(x-5)}{(3 - 1)(3 - 2)(3 - 4)(3 - 5)} = ln(2)\\frac{(x - 1)(x - 2)(x - 4)(x-5)}{4}$$\n",
    "\n",
    "$$p_3 = ln(6) \\frac{(x - 1)(x - 2)(x - 3)(x-5)}{(4 - 1)(4 - 2)(4 - 3)(4 - 5)} = -ln(6)\\frac{(x - 1)(x - 2)(x - 3)(x-5)}{6}$$\n",
    "\n",
    "$$p_4 = ln(24) \\frac{(x - 1)(x - 2)(x - 3)(x - 4)}{(5 - 1)(5 - 2)(5 - 3)(5 - 4)} = ln(24)\\frac{(x - 1)(x - 2)(x - 3)(x - 4)}{24}$$\n",
    "\n",
    "Our interpolant therefore is\n",
    "\n",
    "$$p(x) = ln(2)\\frac{(x - 1)(x - 2)(x - 4)(x-5)}{4} - ln(6)\\frac{(x - 1)(x - 2)(x - 3)(x-5)}{6} + ln(24)\\frac{(x - 1)(x - 2)(x - 3)(x - 4)}{24}$$\n",
    "\n",
    "We can define $h(x) = e^{p(x)}$, so we get\n",
    "\n",
    "$$h(x) = e^{ln(2)\\frac{(x - 1)(x - 2)(x - 4)(x-5)}{4} - ln(6)\\frac{(x - 1)(x - 2)(x - 3)(x-5)}{6} + ln(24)\\frac{(x - 1)(x - 2)(x - 3)(x - 4)}{24}}$$\n",
    "\n",
    "If we stick with this complex form of $h(x)$, we might get some error (the implementation is called `h`). If we simplify this, however...\n",
    "\n",
    "$$h(x) = e^{ln(2)\\frac{(x - 1)(x - 2)(x - 4)(x-5)}{4}} e^{-ln(6)\\frac{(x - 1)(x - 2)(x - 3)(x-5)}{6}} e^{ln(24)\\frac{(x - 1)(x - 2)(x - 3)(x - 4)}{24}}$$\n",
    "\n",
    "$$h(x) = 2^{\\frac{(x - 1)(x - 2)(x - 4)(x-5)}{4}} 6^{-\\frac{(x - 1)(x - 2)(x - 3)(x-5)}{6}} 24^{\\frac{(x - 1)(x - 2)(x - 3)(x - 4)}{24}}$$\n",
    "\n",
    "This last simplified form is what we call `h_simplified`."
   ]
  },
  {
   "cell_type": "code",
   "execution_count": 28,
   "metadata": {},
   "outputs": [
    {
     "name": "stdout",
     "output_type": "stream",
     "text": [
      "Let's try our interpolant with the five given data points\n",
      "h(1) = 1.0\n",
      "h_simplified(1) = 1.0\n",
      "h(2) = 1.0\n",
      "h_simplified(2) = 1.0\n",
      "h(3) = 2.0\n",
      "h_simplified(3) = 2.0\n",
      "h(4) = 6.000000000000001\n",
      "h_simplified(4) = 6.0\n",
      "h(5) = 24.000000000000004\n",
      "h_simplified(5) = 24.0\n"
     ]
    }
   ],
   "source": [
    "def p(x):\n",
    "    p2 = np.log(2) * (x - 1)*(x - 2)*(x - 4)*(x - 5) / 4\n",
    "    p3 = -np.log(6) * (x - 1)*(x - 2)*(x - 3)*(x - 5) / 6\n",
    "    p4 = np.log(24) * (x - 1)*(x - 2)*(x - 3)*(x - 4) / 24\n",
    "    \n",
    "    return p2 + p3 + p4\n",
    "\n",
    "def h(x):\n",
    "    return np.exp(p(x))\n",
    "    \n",
    "def h_simplified(x):\n",
    "    h2 = 2 ** ((x - 1)*(x - 2)*(x - 4)*(x - 5)/4)\n",
    "    h3 = 6 ** (-(x - 1)*(x - 2)*(x - 3)*(x - 5)/6)\n",
    "    h4 = 24 ** ((x - 1)*(x - 2)*(x - 3)*(x - 4)/24)\n",
    "    \n",
    "    return h2 * h3 * h4\n",
    "\n",
    "print(\"Let's try our interpolant with the five given data points\")\n",
    "for x in range (1, 6):\n",
    "    print(\"h({}) = {}\".format(x, h(x)))\n",
    "    print(\"h_simplified({}) = {}\".format(x, h_good(x)))"
   ]
  },
  {
   "cell_type": "markdown",
   "metadata": {},
   "source": [
    "#### c) Plot $\\tau(x)$, $g(x)$, and $h(x)$ on the interval $1 \\leq x \\leq 5$."
   ]
  },
  {
   "cell_type": "code",
   "execution_count": 29,
   "metadata": {},
   "outputs": [
    {
     "data": {
      "image/png": "[encoded data removed]",
      "text/plain": [
       "<Figure size 432x288 with 1 Axes>"
      ]
     },
     "metadata": {},
     "output_type": "display_data"
    }
   ],
   "source": [
    "from scipy.special import gamma\n",
    "\n",
    "domainPlot = np.linspace(1,5,100)\n",
    "gammaPlotValues = [gamma(x) for x in domainPlot]\n",
    "gPlotValues = [g(x) for x in domainPlot]\n",
    "hPlotValues = [h(x) for x in domainPlot]\n",
    "\n",
    "plt.title(\"Comparison of the gamma function to the approximation functions (g & h)\")\n",
    "plt.plot(domainPlot, gammaPlotValues, 'g^', domainPlot, gPlotValues, 'b--', domainPlot, hPlotValues, 'r-.');\n",
    "plt.legend([\"gamma\", \"g(x)\", \"h(x)\"]);"
   ]
  },
  {
   "cell_type": "markdown",
   "metadata": {},
   "source": [
    "#### d) Calculate the maximum relative error between $\\tau(x)$ and $g(x)$, and between $\\tau(x)$ and $h(x)$."
   ]
  },
  {
   "cell_type": "code",
   "execution_count": 34,
   "metadata": {},
   "outputs": [
    {
     "name": "stdout",
     "output_type": "stream",
     "text": [
      "Given 10000 sampling points at regular interval in [1,5]...\n",
      "Maximum relative error of g(x) compared to gamma:  0.2860987375664062\n",
      "Maximum relative error of h(x) compared to gamma:  0.011527840157904373\n"
     ]
    }
   ],
   "source": [
    "numSamples = 10000\n",
    "\n",
    "domainError = np.linspace(1,5, numSamples)\n",
    "gMaxError = 0\n",
    "hMaxError = 0\n",
    "\n",
    "# go through the sampling domain, and keep track of the maximum relative error for the two approximation functions\n",
    "for x in domainError:\n",
    "    trueValue = gamma(x)\n",
    "    gRelativeError = abs(trueValue - g(x)) / trueValue\n",
    "    hRelativeError = abs(trueValue - h(x)) / trueValue\n",
    "    gMaxError = gMaxError if gMaxError >= gRelativeError else gRelativeError\n",
    "    hMaxError = hMaxError if hMaxError >= hRelativeError else hRelativeError\n",
    "\n",
    "print(\"Given {} sampling points at regular interval in [1,5]...\".format(numSamples))\n",
    "print(\"Maximum relative error of g(x) compared to gamma: \", gMaxError)\n",
    "print(\"Maximum relative error of h(x) compared to gamma: \", hMaxError)"
   ]
  },
  {
   "cell_type": "markdown",
   "metadata": {},
   "source": [
    "Based on these sampling results, $g(x)$ seems to be less accurate than $h(x)$.\n",
    "\n",
    "A hypothesis that I have is that $g(x)$ has 5 mathematical terms compared to 3 for $h(x)$ (in the exponent part). For the points in between the five given points (for instance, `1.23`), $g(x)$ could in the end produce more noise than $h(x)$."
   ]
  },
  {
   "cell_type": "markdown",
   "metadata": {},
   "source": [
    "### Question 2: Error bounds with Lagrange polynomials"
   ]
  },
  {
   "cell_type": "markdown",
   "metadata": {},
   "source": [
    "#### a) Program and plot the Lagrange polynomial $p_{n-1}(x)$ of $f(x)$"
   ]
  },
  {
   "cell_type": "code",
   "execution_count": 114,
   "metadata": {},
   "outputs": [
    {
     "name": "stdout",
     "output_type": "stream",
     "text": [
      "[0.9238795325112867, 0.38268343236508984, -0.3826834323650897, -0.9238795325112867]\n"
     ]
    },
    {
     "data": {
      "image/png": "[encoded data removed]",
      "text/plain": [
       "<Figure size 432x288 with 1 Axes>"
      ]
     },
     "metadata": {},
     "output_type": "display_data"
    }
   ],
   "source": [
    "def f(x):\n",
    "    return np.exp(-3*x) + np.exp(2*x)\n",
    "\n",
    "# generates n Cheb points\n",
    "def generateChebPoints(n):\n",
    "    xs = [np.cos((2*j-1)*np.pi/(2*(n-1))) for j in range(1, n)]\n",
    "    return xs\n",
    "\n",
    "# generates the list of denominators corresponding to the list of points (in this case, cheb points)\n",
    "def generateDenominators(xs):\n",
    "    denominators = []\n",
    "\n",
    "    for i, xi in enumerate(xs):\n",
    "        denominator = 1\n",
    "\n",
    "        for j, xj in enumerate(xs):\n",
    "            if i == j:\n",
    "                continue\n",
    "            \n",
    "            denominator *= (xi - xj)\n",
    "        \n",
    "        denominators.append(denominator)\n",
    "        \n",
    "    return denominators\n",
    "\n",
    "# when we run the approximation function, we want to generate the numerators\n",
    "# this generates the numerator for a specific term `i` with `x=xi`, where the list of all xs is also given\n",
    "def generateNumerator(xi, i, xs):\n",
    "    numerator = 1\n",
    "\n",
    "    for j, x in enumerate(xs):\n",
    "        if i == j: \n",
    "            continue\n",
    "        \n",
    "        numerator *= (xi - x)\n",
    "    \n",
    "    return numerator\n",
    "\n",
    "# this \"main\" function generates the approximation function `P`, made with `n` cheb points\n",
    "# the approximation function returned therefore is of degree `n-1`\n",
    "def generateP(n, givenXs=False):\n",
    "    xs = givenXs if givenXs else generateChebPoints(n+1)\n",
    "    print(xs)\n",
    "    ys = [f(x) for x in xs]\n",
    "    denominators = generateDenominators(xs)\n",
    "    \n",
    "    def P(x):\n",
    "        result = 0\n",
    "\n",
    "        for i, y in enumerate(ys):\n",
    "            denominator = denominators[i]\n",
    "            numerator = generateNumerator(x, i, xs)\n",
    "            \n",
    "            result += y * numerator / denominator\n",
    "        \n",
    "        return result\n",
    "            \n",
    "        \n",
    "    return P\n",
    "\n",
    "# this is the approximation function P of degree 3\n",
    "P3 = generateP(4)\n",
    "\n",
    "# here we plot\n",
    "fDomainPlot = np.linspace(-1,1,10000)\n",
    "fPlotValues = [f(x) for x in fDomainPlot]\n",
    "P3PlotValues = [P3(x) for x in fDomainPlot]\n",
    "\n",
    "\n",
    "plt.title(\"Comparison of f(x), P3(x), and P9(x) over 10,000 points between [-1,1]\")\n",
    "plt.plot(fDomainPlot, fPlotValues, 'g--', fDomainPlot, P3PlotValues, 'b--');\n",
    "plt.legend([\"f(x)\", \"P3(x)\"]);"
   ]
  },
  {
   "cell_type": "markdown",
   "metadata": {},
   "source": [
    "#### b) Calculate $\\|f - p_3\\|_{\\infty}$ by sampling the function 1,000 equally-spaced points over [-1,1]."
   ]
  },
  {
   "cell_type": "code",
   "execution_count": 124,
   "metadata": {},
   "outputs": [
    {
     "name": "stdout",
     "output_type": "stream",
     "text": [
      "||f - P3|| is  1.1924886347866206\n"
     ]
    }
   ],
   "source": [
    "samplingP3Domain = np.linspace(-1,1,1000)\n",
    "fp3InfNorm = np.max([abs(f(x) - P3(x)) for x in samplingP3Domain])\n",
    "print(\"||f - P3|| is \", fp3InfNorm)"
   ]
  },
  {
   "cell_type": "markdown",
   "metadata": {},
   "source": [
    "#### c) Derive an upper bound for $\\|f - p_{n-1}\\|_\\infty$\n",
    "\n",
    "We know that \n",
    "\n",
    "$$\\|f - p_{n-1}\\|_\\infty \\leq \\frac{M_{n+1}}{n!} \\, max_{x \\in [a,b]}|(x-x_0)...(x-x_n)|$$\n",
    "\n",
    "where $M_{n+1} = max_{\\theta \\in [a,b]} |f^{n+1}(\\theta)|$.\n",
    "\n",
    "Let's look first at $f^{n+1}(\\theta)$\n",
    "$$f^{1}(\\theta) = -3e^{-3\\theta} + 2e^{2\\theta}$$\n",
    "$$f^{2}(\\theta) = (-3)^2e^{-3\\theta} + (2)^2e^{2\\theta}$$\n",
    "\n",
    "We can infer that\n",
    "\n",
    "$$f^{n+1}(\\theta) = (-3)^{n+1}e^{-3\\theta} + (2)^{n+1}e^{2\\theta}$$\n",
    "\n",
    "We will maximize $M^{n+1}$ when $\\theta = -1$ (as $e^{-3\\theta}$ outweights $e^{2\\theta})$. So,\n",
    "\n",
    "$$\\frac{M_{n+1}}{n!} \\, max_{x \\in [a,b]}|(x-x_0)...(x-x_n)| \\leq \\frac{|(-3)^{n+1}e^3 + (2)^{n+1}e^{-2}|}{n!} \\, max_{x \\in [a,b]}|(x-x_0)...(x-x_n)|$$\n",
    "\n",
    "And in our interval, what's the biggest possible difference between $x$ and $x_k$? That is $1 - -1 = 2$. We can therefore say\n",
    "\n",
    "$$\\leq \\frac{|(-3)^{n+1}e^3 + (2)^{n+1}e^{-2}|}{n!} \\, 2^n$$\n",
    "\n",
    "$$\\leq |(-3)^{n+1}e^3 + (2)^{n+1}e^{-2}| \\, 2^n$$\n",
    "\n",
    "$$\\leq (3^{n+1}e^3 + 2^{n+1}e^{-2}) \\, 2^n$$\n",
    "\n",
    "$$\\leq 6^{n+1}e^3 + 4^{n+1}e^{-2}$$\n",
    "\n",
    "$$\\leq 6^{n+1}e^3 + 4^{n+1}$$\n",
    "\n",
    "\n",
    "I will stop here, I think that our bound is simple enough."
   ]
  },
  {
   "cell_type": "markdown",
   "metadata": {},
   "source": [
    "#### d) Find a cubic polynomial with a smaller infinity-norm"
   ]
  },
  {
   "cell_type": "code",
   "execution_count": 123,
   "metadata": {},
   "outputs": [
    {
     "name": "stdout",
     "output_type": "stream",
     "text": [
      "[0.8923879532511286, 0.2, -0.3826834323650897, -0.9238795325112867]\n",
      "||f - P3+|| is  1.1037418187784915\n"
     ]
    },
    {
     "data": {
      "image/png": "[encoded data removed]",
      "text/plain": [
       "<Figure size 432x288 with 1 Axes>"
      ]
     },
     "metadata": {},
     "output_type": "display_data"
    }
   ],
   "source": [
    "# I changed the 2nd cheb point to \"0.2\", because I noticed there was a noticeable gap around 0.\n",
    "P3P = generateP(4, [0.89238795325112867, 0.2, -0.3826834323650897, -0.9238795325112867])\n",
    "fp3pInfNorm = np.max([abs(f(x) - P3P(x)) for x in samplingP3Domain])\n",
    "print(\"||f - P3+|| is \", fp3pInfNorm)\n",
    "\n",
    "# here we plot\n",
    "P3PPlotValues = [P3P(x) for x in fDomainPlot]\n",
    "\n",
    "plt.title(\"Comparison of f(x) and P3P(x) over 10,000 points between [-1,1]\")\n",
    "plt.plot(fDomainPlot, fPlotValues, 'g--', fDomainPlot, P3PPlotValues, 'b--');\n",
    "plt.legend([\"f(x)\", \"P3P(x)\"]);"
   ]
  },
  {
   "cell_type": "markdown",
   "metadata": {},
   "source": [
    "By changing one of the interpolating points, our new function $\\|f - p_3^+\\|$ measured an infinity-norm of 1.10374, compared to the infinity-norm of $\\|f - p_3\\|$, which was 1.192488."
   ]
  },
  {
   "cell_type": "markdown",
   "metadata": {},
   "source": [
    "### Question 3: The condition number of a matrix\n",
    "\n",
    "*We assume that the matrix norm is defined as the Euclidian norm*"
   ]
  },
  {
   "cell_type": "markdown",
   "metadata": {},
   "source": [
    "#### a) Find two 2 x 2 invertible matrices B and C such that $\\kappa(B + C) < \\kappa(B) + \\kappa(C)$."
   ]
  },
  {
   "cell_type": "code",
   "execution_count": 4,
   "metadata": {},
   "outputs": [
    {
     "name": "stdout",
     "output_type": "stream",
     "text": [
      "B: [[1 2]\n",
      " [3 4]]\n",
      "C: [[5 6]\n",
      " [7 8]]\n",
      "k(B) + k(C): 101.9215386017884\n",
      "k(B+C) = 42.97673159491452\n",
      "Therefore, k(B + C) < k(B) + k(C)\n"
     ]
    }
   ],
   "source": [
    "# helper function to calculate kappa\n",
    "def kappa(A):\n",
    "    invA = la.inv(A)\n",
    "    return la.norm(A,2) * la.norm(invA,2)\n",
    "\n",
    "B1 = np.matrix([[1,2],[3,4]])\n",
    "C1 = np.matrix([[5,6],[7,8]])\n",
    "\n",
    "print(\"B: {}\\nC: {}\\nk(B) + k(C): {}\\nk(B+C) = {}\\nTherefore, k(B + C) < k(B) + k(C)\".format(B1, C1, kappa(B1) + kappa(C1), kappa(B1+C1)))"
   ]
  },
  {
   "cell_type": "markdown",
   "metadata": {},
   "source": [
    "#### b) Find two 2 x 2 invertible matrices B and C such that $\\kappa(B + C) > \\kappa(B) + \\kappa(C)$."
   ]
  },
  {
   "cell_type": "code",
   "execution_count": 5,
   "metadata": {},
   "outputs": [
    {
     "name": "stdout",
     "output_type": "stream",
     "text": [
      "B: [[0.55205782 0.49808833]\n",
      " [0.55316979 0.85014977]]\n",
      "C: [[0.9404758  0.86366477]\n",
      " [0.68788901 0.26798088]]\n",
      "k(B) + k(C): 14.234544652101643\n",
      "k(B+C) = 324.6589564637066\n",
      "Therefore, k(B + C) > k(B) + k(C)\n"
     ]
    }
   ],
   "source": [
    "while True:\n",
    "    B2 = np.random.rand(2,2)\n",
    "    C2 = np.random.rand(2,2)\n",
    "    \n",
    "    # B or C is a singular matrix, start over\n",
    "    if la.det(B2) == 0 or la.det(C2) == 0:\n",
    "        continue\n",
    "        \n",
    "    kappaB = kappa(B2)\n",
    "    kappaC = kappa(C2)\n",
    "    kappaBC = kappa(B2 + C2)\n",
    "    \n",
    "    # our valid kappas don't satisfy the condition of question b), start over\n",
    "    if kappaBC <= kappaB + kappaC:\n",
    "        continue\n",
    "        \n",
    "    # we've made it here, our kappas satisfy the condition of question b). print the result and stop\n",
    "    print(\"B: {}\\nC: {}\\nk(B) + k(C): {}\\nk(B+C) = {}\\nTherefore, k(B + C) > k(B) + k(C)\".format(B2, C2, kappaB + kappaC, kappaBC))\n",
    "    break"
   ]
  },
  {
   "cell_type": "markdown",
   "metadata": {},
   "source": [
    "#### c) Suppose that *A* is a symmetric invertible 2 x 2 matrix. Find $\\kappa(2A)$ and $\\kappa(A^2)$ in terms of  $\\kappa(A)$."
   ]
  },
  {
   "cell_type": "code",
   "execution_count": 16,
   "metadata": {},
   "outputs": [
    {
     "name": "stdout",
     "output_type": "stream",
     "text": [
      "k(A1): 2.9999999999999996\n",
      "k(2 * A1): 2.9999999999999996\n",
      "k(A1^2): 9.000000000000002\n",
      "\n",
      "k(A2): 1.3946338156543727\n",
      "k(2 * A2): 1.3946338156543727\n",
      "k(A2^2): 1.9450034797666749\n",
      "\n",
      "k(A^2) != k(A)^2 ... the difference is  39.7290757894516\n",
      "k(A^2) != k(A)^2 ... the difference is  0.9671646058559418\n",
      "k(A^2) != k(A)^2 ... the difference is  268.4838719367981\n",
      "k(A^2) != k(A)^2 ... the difference is  12.810651898384094\n",
      "k(A^2) != k(A)^2 ... the difference is  0.14812211692333221\n",
      "k(A^2) != k(A)^2 ... the difference is  0.2658008635044098\n",
      "k(A^2) != k(A)^2 ... the difference is  0.10814255475997925\n",
      "k(A^2) != k(A)^2 ... the difference is  0.15281198918819427\n",
      "k(A^2) != k(A)^2 ... the difference is  171.86052417755127\n",
      "k(A^2) != k(A)^2 ... the difference is  52.02001357078552\n",
      "k(A^2) != k(A)^2 ... the difference is  0.23029422760009766\n",
      "k(A^2) != k(A)^2 ... the difference is  60.67201542854309\n",
      "k(A^2) != k(A)^2 ... the difference is  2.9475621581077576\n",
      "k(A^2) != k(A)^2 ... the difference is  0.8575853705406189\n",
      "k(A^2) != k(A)^2 ... the difference is  40.216692209243774\n",
      "k(A^2) != k(A)^2 ... the difference is  1874.2456283569336\n",
      "k(A^2) != k(A)^2 ... the difference is  0.4106072932481766\n",
      "k(A^2) != k(A)^2 ... the difference is  1.1922902464866638\n",
      "k(A^2) != k(A)^2 ... the difference is  0.5048244297504425\n",
      "k(A^2) != k(A)^2 ... the difference is  12621.075576782227\n",
      "k(A^2) != k(A)^2 ... the difference is  0.4459201693534851\n",
      "k(A^2) != k(A)^2 ... the difference is  1.4806620478630066\n",
      "done\n"
     ]
    }
   ],
   "source": [
    "dummySymmetric1 = np.matrix([[1,2],[2,1]])\n",
    "print(\"k(A1): {}\".format(kappa(dummySymmetric1)))\n",
    "print(\"k(2 * A1): {}\".format(kappa(2*dummySymmetric1)))\n",
    "print(\"k(A1^2): {}\\n\".format(kappa(dummySymmetric1 ** 2)))\n",
    "\n",
    "dummySymmetric2 = np.matrix([[np.random.rand(), 0], [0, np.random.rand()]])\n",
    "print(\"k(A2): {}\".format(kappa(dummySymmetric2)))\n",
    "print(\"k(2 * A2): {}\".format(kappa(2*dummySymmetric2)))\n",
    "print(\"k(A2^2): {}\\n\".format(kappa(dummySymmetric2 ** 2)))\n",
    "\n",
    "for _ in range(100000):\n",
    "    a, b, c = np.random.rand(3)\n",
    "    A = np.matrix([[a, b],[b,c]])\n",
    "    kappaA = kappa(A)\n",
    "    kappa2A = kappa(2*A)\n",
    "    kappaA2 = kappa(A**2)\n",
    "    diffKappaA2 = abs(kappaA2 - (kappaA ** 2))\n",
    "    \n",
    "    if diffKappaA2 > 0.1:\n",
    "        print(\"k(A^2) != k(A)^2 ... the difference is \", diffKappaA2)\n",
    "    if kappaA != kappa2A:\n",
    "        print(\"k(A) != k(2A)\\n{}\".format(A))\n",
    "print(\"done\")"
   ]
  },
  {
   "cell_type": "markdown",
   "metadata": {},
   "source": [
    "With this experiment, we can get an intuition that:\n",
    "*  $\\kappa(2A) = \\kappa(A)$\n",
    "*  $\\kappa(A^2) = \\kappa(A)^2$\n",
    "\n",
    "However, the intuition about $\\kappa(A^2)$ does not behave as we would expect as we can see in the logs above.\n",
    "\n",
    "*NB: Below is an analysis of the condition numbers, but using the Frobenius norm*\n",
    "\n",
    "Let's analyze this more formally.\n",
    "\n",
    "Let's define this 2x2 symmetric invertible matrix $A = \\begin{bmatrix}\n",
    "a & b \\\\\n",
    "b & c\n",
    "\\end{bmatrix}$, where $|A| = ac - b^2 \\neq 0$.\n",
    "\n",
    "$$A^{-1} = \\frac{1}{ac - b^2} \\begin{bmatrix}\n",
    "c & -b \\\\\n",
    "-b & a\n",
    "\\end{bmatrix}$$\n",
    "\n",
    "$$\\kappa(A) = \\|A\\| \\|A^{-1}\\| = \\sqrt{a^2 + 2b^2 + c^2} \\sqrt{(\\frac{1}{ac-b^2})^2(a^2+2b^2+c^2)} = \\frac{1}{ac-b^2} (a^2+2b^2+c^2)$$\n",
    "\n",
    "Let's look at $2A = \\begin{bmatrix}\n",
    "2a & 2b \\\\\n",
    "2b & 2c\n",
    "\\end{bmatrix}$\n",
    "\n",
    "$$\\kappa(2A) = \\frac{1}{(2a)(2c)-(2b)^2} ((2a)^2+2(2b)^2+(2c)^2) = \\frac{1}{4ac-4b^2} (4a^2+8b^2+4c^2) = \\frac{1}{4(ac-b^2)} 4(a^2+2b^2+c^2) = \\frac{1}{ac-b^2} (a^2+2b^2+c^2) = \\kappa(A)$$\n",
    "\n",
    "So we have a proof that $\\kappa(A) = \\kappa(2A)$. Now, what about $\\kappa(A^2)$?\n",
    "\n",
    "Let's look at $A^2 = \\begin{bmatrix}\n",
    "a^2+b^2 & ab+bc \\\\\n",
    "ab+bc & b^2+c^2\n",
    "\\end{bmatrix}$\n",
    "\n",
    "$$\\kappa(A^2) = \\frac{1}{(a^2+b^2)(b^2+c^2) - (ba+bc)^2} ((a^2+b^2)^2 + 2(ba+bc)^2 + (b^2+c^2)^2)$$\n",
    "\n",
    "$$= \\frac{1}{(ac-b^2)^2} (a^4 + 4a^2b^2+4ab^2c+2b^4+4b^2c^2+c^4)$$\n",
    "\n",
    "$$= \\frac{k}{ac-b^2} \\frac{1}{ac-b^2} (a^2+2b^2+c^2)$$ where $k = \\frac{a^4 + 4a^2b^2+4ab^2c+2b^4+4b^2c^2+c^4}{a^2+2b^2+c^2}$\n",
    "\n",
    "$$ \\kappa(A^2) = \\frac{k}{ac-b^2} \\kappa(A)$$\n",
    "\n",
    "Further steps needed to prove that $\\kappa(A) < \\kappa(A^2)$ would be to prove that $k > ac-b^2$. I will not do this here, as the question asked for the relation between $\\kappa(A)$ and $\\kappa(A^2)$, which has been done."
   ]
  },
  {
   "cell_type": "markdown",
   "metadata": {},
   "source": [
    "### Question 4: Cubic Splines\n",
    "\n",
    "#### a) Construct a cubic spline $s_x(t)$\n",
    "\n",
    "Here are our 4 polynomials to solve.\n",
    "\n",
    "* $s_1(t) = \\alpha_1 + \\alpha_2t + \\alpha_3t^2 + \\alpha_4t^3$ for [0,1)\n",
    "* $s_2(t) = \\beta_1 + \\beta_2t + \\beta_3t^2 + \\beta_4t^3$ for [1,2)\n",
    "* $s_3(t) = \\gamma_1 + \\gamma_2t + \\gamma_3t^2 + \\gamma_4t^3$ for [2,3)\n",
    "* $s_4(t) = \\phi_1 + \\phi_2t + \\phi_3t^2 + \\phi_4t^3$ for [3,4)\n",
    "\n",
    "We have 16 parameters to find, so we need 16 equations.\n",
    "\n",
    "1. $s_1(0) = \\alpha_1 = 0$\n",
    "2. $s_1(1) = \\alpha_1 + \\alpha_2 + \\alpha_3 + \\alpha_4 = 1$\n",
    "3. $s_2(1) = \\beta_1 + \\beta_2 + \\beta_3 + \\beta_4 = 1$\n",
    "4. $s_2(2) = \\beta_1 + 2\\beta_2 + 4\\beta_3 + 8\\beta_4 = 0$\n",
    "5. $s_3(2) = \\gamma_1 + 2\\gamma_2 + 4\\gamma_3 + 8\\gamma_4 = 0$\n",
    "6. $s_3(3) = \\gamma_1 + 3\\gamma_2 + 9\\gamma_3 + 27\\gamma_4 = -1$\n",
    "7. $s_4(3) = \\phi_1 + 3\\phi_2 + 9\\phi_3 + 27\\phi_4 = -1$\n",
    "8. $s_4(4) = \\phi_1 + 4\\phi_2 + 16\\phi_3 + 64\\phi_4 = 0$\n",
    "9. $s_1'(0) = s_4'(4) \\implies \\alpha_2 = \\phi_2 + 8\\phi_3 + 48\\phi_4$\n",
    "10. $s_1'(1) = s_2'(1) \\implies \\alpha_2 + 2\\alpha_3 + 3\\alpha_4 = \\beta_2 + 2\\beta_3 + 3\\beta_4$\n",
    "11. $s_2'(2) = s_3'(2) \\implies \\beta_2 + 4\\beta_3 + 12\\beta_4 = \\gamma_2 + 4\\gamma_3 + 12\\gamma_4$\n",
    "12. $s_3'(3) = s_4'(3) \\implies \\gamma_2 + 6\\gamma_3 + 27\\gamma_4 = \\phi_2 + 6 \\phi_3 + 27\\phi_4$\n",
    "13. $s_1''(0) = s_4''(4) \\implies 2\\alpha_3 = 2\\phi_3 + 24\\phi_4$\n",
    "14. $s_1''(1) = s_2''(1) \\implies 2\\alpha_3 + 6\\alpha_4 = 2\\beta_3 + 6\\beta_4$\n",
    "15. $s_2''(2) = s_3''(2) \\implies 2\\beta_3 + 12\\beta_4 = 2\\gamma_3 + 12\\gamma_4$\n",
    "16. $s_3''(3) = s_4''(3) \\implies 2\\gamma_3 + 18\\gamma_4 = 2\\phi_3 + 18\\phi_4$\n",
    "\n",
    "Which gives us the following linear system\n",
    "\n",
    "$$\n",
    "\\begin{bmatrix}\n",
    "1 & 0 & 0 & 0 & 0 & 0 & 0 & 0 & 0 & 0 & 0 & 0 & 0 & 0 & 0 & 0 \\\\\n",
    "1 & 1 & 1 & 1 & 0 & 0 & 0 & 0 & 0 & 0 & 0 & 0 & 0 & 0 & 0 & 0 \\\\\n",
    "0 & 0 & 0 & 0 & 1 & 1 & 1 & 1 & 0 & 0 & 0 & 0 & 0 & 0 & 0 & 0 \\\\\n",
    "0 & 0 & 0 & 0 & 1 & 2 & 4 & 8 & 0 & 0 & 0 & 0 & 0 & 0 & 0 & 0 \\\\\n",
    "0 & 0 & 0 & 0 & 0 & 0 & 0 & 0 & 1 & 2 & 4 & 8 & 0 & 0 & 0 & 0 \\\\\n",
    "0 & 0 & 0 & 0 & 0 & 0 & 0 & 0 & 1 & 3 & 9 & 27 & 0 & 0 & 0 & 0 \\\\\n",
    "0 & 0 & 0 & 0 & 0 & 0 & 0 & 0 & 0 & 0 & 0 & 0 & 1 & 3 & 9 & 27 \\\\\n",
    "0 & 0 & 0 & 0 & 0 & 0 & 0 & 0 & 0 & 0 & 0 & 0 & 1 & 4 & 16 & 64 \\\\\n",
    "0 & 1 & 0 & 0 & 0 & 0 & 0 & 0 & 0 & 0 & 0 & 0 & 0 & -1 & -8 & -48 \\\\\n",
    "0 & 1 & 2 & 3 & 0 & -1 & -2 & -3 & 0 & 0 & 0 & 0 & 0 & 0 & 0 & 0 \\\\\n",
    "0 & 0 & 0 & 0 & 0 & 1 & 4 & 12 & 0 & -1 & -4 & -12 & 0 & 0 & 0 & 0 \\\\\n",
    "0 & 0 & 0 & 0 & 0 & 0 & 0 & 0 & 0 & 1 & 6 & 27 & 0 & -1 & -6 & -27 \\\\\n",
    "0 & 0 & 2 & 0 & 0 & 0 & 0 & 0 & 0 & 0 & 0 & 0 & 0 & 0 & -2 & -24 \\\\\n",
    "0 & 0 & 2 & 6 & 0 & 0 & -2 & -6 & 0 & 0 & 0 & 0 & 0 & 0 & 0 & 0 \\\\\n",
    "0 & 0 & 0 & 0 & 0 & 0 & 2 & 12 & 0 & 0 & -2 & -12 & 0 & 0 & 0 & 0 \\\\\n",
    "0 & 0 & 0 & 0 & 0 & 0 & 0 & 0 & 0 & 0 & 2 & 18 & 0 & 0 & -2 & -18 \\\\\n",
    "\\end{bmatrix}\n",
    "\\begin{bmatrix}\n",
    "\\alpha_1 \\\\\n",
    "\\alpha_2 \\\\\n",
    "\\alpha_3 \\\\\n",
    "\\alpha_4 \\\\\n",
    "\\beta_1 \\\\\n",
    "\\beta_2 \\\\\n",
    "\\beta_3 \\\\\n",
    "\\beta_4 \\\\\n",
    "\\gamma_1 \\\\\n",
    "\\gamma_2 \\\\\n",
    "\\gamma_3 \\\\\n",
    "\\gamma_4 \\\\\n",
    "\\phi_1 \\\\\n",
    "\\phi_2 \\\\\n",
    "\\phi_3 \\\\\n",
    "\\phi_4 \\\\\n",
    "\\end{bmatrix} = \\begin{bmatrix}\n",
    "0 \\\\\n",
    "1 \\\\\n",
    "1 \\\\\n",
    "0 \\\\\n",
    "0 \\\\\n",
    "-1 \\\\\n",
    "-1 \\\\\n",
    "0 \\\\\n",
    "0 \\\\\n",
    "0 \\\\\n",
    "0 \\\\\n",
    "0 \\\\\n",
    "0 \\\\\n",
    "0 \\\\\n",
    "0 \\\\\n",
    "0 \\\\\n",
    "\\end{bmatrix}\n",
    "$$"
   ]
  },
  {
   "cell_type": "code",
   "execution_count": 95,
   "metadata": {},
   "outputs": [
    {
     "name": "stdout",
     "output_type": "stream",
     "text": [
      "Here is the list of parameters computed:\n",
      "[[ 0.0000000e+00]\n",
      " [ 1.5000000e+00]\n",
      " [ 4.4408921e-15]\n",
      " [-5.0000000e-01]\n",
      " [-1.0000000e+00]\n",
      " [ 4.5000000e+00]\n",
      " [-3.0000000e+00]\n",
      " [ 5.0000000e-01]\n",
      " [-1.0000000e+00]\n",
      " [ 4.5000000e+00]\n",
      " [-3.0000000e+00]\n",
      " [ 5.0000000e-01]\n",
      " [ 2.6000000e+01]\n",
      " [-2.2500000e+01]\n",
      " [ 6.0000000e+00]\n",
      " [-5.0000000e-01]]\n",
      "\n",
      "(0,0.0)\n",
      "(1,1.0)\n",
      "(2,3.552713678800501e-15)\n",
      "(3,-0.9999999999999947)\n",
      "(4,-3.552713678800501e-15)\n"
     ]
    }
   ],
   "source": [
    "A1 = np.matrix([\n",
    "[1 , 0 , 0 , 0 , 0 , 0 , 0 , 0 , 0 , 0 , 0 , 0 , 0 , 0 , 0 , 0],\n",
    "[1 , 1 , 1 , 1 , 0 , 0 , 0 , 0 , 0 , 0 , 0 , 0 , 0 , 0 , 0 , 0],\n",
    "[0 , 0 , 0 , 0 , 1 , 1 , 1 , 1 , 0 , 0 , 0 , 0 , 0 , 0 , 0 , 0],\n",
    "[0 , 0 , 0 , 0 , 1 , 2 , 4 , 8 , 0 , 0 , 0 , 0 , 0 , 0 , 0 , 0],\n",
    "[0 , 0 , 0 , 0 , 0 , 0 , 0 , 0 , 1 , 2 , 4 , 8 , 0 , 0 , 0 , 0],\n",
    "[0 , 0 , 0 , 0 , 0 , 0 , 0 , 0 , 1 , 3 , 9 , 27 , 0 , 0 , 0 , 0],\n",
    "[0 , 0 , 0 , 0 , 0 , 0 , 0 , 0 , 0 , 0 , 0 , 0 , 1 , 3 , 9 , 27],\n",
    "[0 , 0 , 0 , 0 , 0 , 0 , 0 , 0 , 0 , 0 , 0 , 0 , 1 , 4 , 16 , 64],\n",
    "[0 , 1 , 0 , 0 , 0 , 0 , 0 , 0 , 0 , 0 , 0 , 0 , 0 , -1 , -8 , -48],\n",
    "[0 , 1 , 2 , 3 , 0 , -1 , -2 , -3 , 0 , 0 , 0 , 0 , 0 , 0 , 0 , 0],\n",
    "[0 , 0 , 0 , 0 , 0 , 1 , 4 , 12 , 0 , -1 , -4 , -12 , 0 , 0 , 0 , 0],\n",
    "[0 , 0 , 0 , 0 , 0 , 0 , 0 , 0 , 0 , 1 , 6 , 27 , 0 , -1 , -6 , -27],\n",
    "[0 , 0 , 2 , 0 , 0 , 0 , 0 , 0 , 0 , 0 , 0 , 0 , 0 , 0 , -2 , -24],\n",
    "[0 , 0 , 2 , 6 , 0 , 0 , -2 , -6 , 0 , 0 , 0 , 0 , 0 , 0 , 0 , 0],\n",
    "[0 , 0 , 0 , 0 , 0 , 0 , 2 , 12 , 0 , 0 , -2 , -12 , 0 , 0 , 0 , 0],\n",
    "[0 , 0 , 0 , 0 , 0 , 0 , 0 , 0 , 0 , 0 , 2 , 18 , 0 , 0 , -2 , -18]\n",
    "])\n",
    "\n",
    "b1 = np.matrix([\n",
    "    [0],\n",
    "    [1],\n",
    "    [1],\n",
    "    [0],\n",
    "    [0],\n",
    "    [-1],\n",
    "    [-1],\n",
    "    [0],\n",
    "    [0],\n",
    "    [0],\n",
    "    [0],\n",
    "    [0],\n",
    "    [0],\n",
    "    [0],\n",
    "    [0],\n",
    "    [0],\n",
    "])\n",
    "\n",
    "x1 = np.linalg.solve(A1, b1)\n",
    "\n",
    "print(\"Here is the list of parameters computed:\\n{}\\n\".format(x1))\n",
    "\n",
    "def sx(t):\n",
    "    if t >= 0 and t < 1:\n",
    "        return float(x1[0] + x1[1] * t + x1[2] * (t ** 2) + x1[3] * (t ** 3))\n",
    "    if t < 2:\n",
    "        return float(x1[4] + x1[5] * t + x1[6] * (t ** 2) + x1[7] * (t ** 3))\n",
    "    if t < 3:\n",
    "        return float(x1[8] + x1[9] * t + x1[10] * (t ** 2) + x1[11] * (t ** 3))\n",
    "    if t <= 4:\n",
    "        return float(x1[12] + x1[13] * t + x1[14] * (t ** 2) + x1[15] * (t ** 3))\n",
    "\n",
    "for i in range(5):\n",
    "    print(\"({},{})\".format(i, sx(i)))"
   ]
  },
  {
   "cell_type": "markdown",
   "metadata": {},
   "source": [
    "#### b) Plot $s_x(t)$ and $sin(t\\pi/2)$ on the interval [0,4)."
   ]
  },
  {
   "cell_type": "code",
   "execution_count": 96,
   "metadata": {},
   "outputs": [
    {
     "data": {
      "image/png": "[encoded data removed]",
      "text/plain": [
       "<Figure size 432x288 with 1 Axes>"
      ]
     },
     "metadata": {},
     "output_type": "display_data"
    }
   ],
   "source": [
    "# here we plot\n",
    "sDomainPlot = np.linspace(0,4,10000)\n",
    "sinPlotValues = [np.sin(t*np.pi/2) for t in sDomainPlot]\n",
    "sxPlotValues = [sx(t) for t in sDomainPlot]\n",
    "\n",
    "\n",
    "plt.title(\"Comparison of sin(t*pi/2), and sx(t) over 10,000 points between [0,4]\")\n",
    "plt.plot(sDomainPlot, sinPlotValues, 'g^', sDomainPlot, sxPlotValues, 'b--');\n",
    "plt.legend([\"sin(t*pi/2)\", \"sx(t)\"]);"
   ]
  },
  {
   "cell_type": "markdown",
   "metadata": {},
   "source": [
    "#### c) Plot $s_y(t)$ and $cos(t\\pi/2)$ on the interval [0,4)."
   ]
  },
  {
   "cell_type": "code",
   "execution_count": 143,
   "metadata": {},
   "outputs": [
    {
     "name": "stdout",
     "output_type": "stream",
     "text": [
      "Here is the list of parameters computed:\n",
      "[[ 1.00000000e+00]\n",
      " [-2.66453526e-15]\n",
      " [-1.50000000e+00]\n",
      " [ 5.00000000e-01]\n",
      " [ 1.00000000e+00]\n",
      " [ 2.59052039e-15]\n",
      " [-1.50000000e+00]\n",
      " [ 5.00000000e-01]\n",
      " [ 9.00000000e+00]\n",
      " [-1.20000000e+01]\n",
      " [ 4.50000000e+00]\n",
      " [-5.00000000e-01]\n",
      " [ 9.00000000e+00]\n",
      " [-1.20000000e+01]\n",
      " [ 4.50000000e+00]\n",
      " [-5.00000000e-01]]\n",
      "\n"
     ]
    },
    {
     "data": {
      "image/png": "[encoded data removed]",
      "text/plain": [
       "<Figure size 432x288 with 1 Axes>"
      ]
     },
     "metadata": {},
     "output_type": "display_data"
    }
   ],
   "source": [
    "# we just need to change the b matrix with the new ys, the rest is repeated.\n",
    "b2 = np.matrix([\n",
    "    [1],\n",
    "    [0],\n",
    "    [0],\n",
    "    [-1],\n",
    "    [-1],\n",
    "    [0],\n",
    "    [0],\n",
    "    [1],\n",
    "    [0],\n",
    "    [0],\n",
    "    [0],\n",
    "    [0],\n",
    "    [0],\n",
    "    [0],\n",
    "    [0],\n",
    "    [0],\n",
    "])\n",
    "x2 = np.linalg.solve(A1, b2)\n",
    "\n",
    "print(\"Here is the list of parameters computed:\\n{}\\n\".format(x2))\n",
    "\n",
    "def sy(t):\n",
    "    if t >= 0 and t < 1:\n",
    "        return float(x2[0] + x2[1] * t + x2[2] * (t ** 2) + x2[3] * (t ** 3))\n",
    "    if t < 2:\n",
    "        return float(x2[4] + x2[5] * t + x2[6] * (t ** 2) + x2[7] * (t ** 3))\n",
    "    if t < 3:\n",
    "        return float(x2[8] + x2[9] * t + x2[10] * (t ** 2) + x2[11] * (t ** 3))\n",
    "    if t <= 4:\n",
    "        return float(x2[12] + x2[13] * t + x2[14] * (t ** 2) + x2[15] * (t ** 3))\n",
    "\n",
    "#sy = scipy.interpolate.interp1d([0, 1, 2, 3, 4], [1, 0, -1, 0, 1], kind='cubic')\n",
    "\n",
    "cosPlotValues = [np.cos(t*np.pi/2) for t in sDomainPlot]\n",
    "syPlotValues = [sy(t) for t in sDomainPlot]\n",
    "\n",
    "\n",
    "plt.title(\"Comparison of cos(t*pi/2), and sy(t) over 10,000 points between [0,4]\")\n",
    "plt.plot(sDomainPlot, cosPlotValues, 'g^', sDomainPlot, syPlotValues, 'b--');\n",
    "plt.legend([\"cos(t*pi/2)\", \"sy(t)\"]);"
   ]
  },
  {
   "cell_type": "markdown",
   "metadata": {},
   "source": [
    "#### d) Plot $s_x(t)$ and $s_y(t)$ on the interval [0,4), and estimate $\\pi$ to at least five decimal places."
   ]
  },
  {
   "cell_type": "code",
   "execution_count": 144,
   "metadata": {},
   "outputs": [
    {
     "data": {
      "image/png": "[encoded data removed]",
      "text/plain": [
       "<Figure size 360x360 with 1 Axes>"
      ]
     },
     "metadata": {},
     "output_type": "display_data"
    }
   ],
   "source": [
    "plt.figure(figsize=(5,5))\n",
    "plt.title(\"Comparison of sx(t), and sy(t) over 10,000 points between [0,4]\")\n",
    "plt.plot([sx(t) for t in sDomainPlot], syPlotValues, 'g^');\n",
    "plt.legend([\"sx(t)-sy(t)\"]);\n"
   ]
  },
  {
   "cell_type": "code",
   "execution_count": 172,
   "metadata": {},
   "outputs": [],
   "source": [
    "# I integrate sx, and note that I use the absolute value of sx so that we don't cancel out the negative area\n",
    "parametricCurveArea, _ = scipy.integrate.quad(lambda x: abs(sx(x)), 0, 4)"
   ]
  },
  {
   "cell_type": "markdown",
   "metadata": {},
   "source": [
    "The result of this integral is $Area = \\int_0^4 |sin(\\frac{t\\pi}{2})| dt = \\frac{8}{\\pi}$\n",
    "\n",
    "So, $\\pi = \\frac{8}{Area}$..."
   ]
  },
  {
   "cell_type": "code",
   "execution_count": 176,
   "metadata": {},
   "outputs": [
    {
     "name": "stdout",
     "output_type": "stream",
     "text": [
      "Our approximate pi: 3.2000000000000033\n",
      "The relative error is: 1.8591635788131236%\n",
      "\n"
     ]
    }
   ],
   "source": [
    "ourPi = 8 / parametricCurveArea\n",
    "print(\"Our approximate pi: {}\\nThe relative error is: {}%\\n\".format(ourPi, (ourPi - np.pi)/np.pi*100)) "
   ]
  },
  {
   "cell_type": "markdown",
   "metadata": {},
   "source": [
    "... which is close enough!"
   ]
  },
  {
   "cell_type": "markdown",
   "metadata": {},
   "source": [
    "### Question 5: Image reconstruction using low light\n",
    "\n",
    "#### a) Reconstruct the regular photo"
   ]
  },
  {
   "cell_type": "code",
   "execution_count": 88,
   "metadata": {},
   "outputs": [
    {
     "name": "stderr",
     "output_type": "stream",
     "text": [
      "/anaconda3/lib/python3.6/site-packages/ipykernel_launcher.py:30: FutureWarning: `rcond` parameter will change to the default of machine precision times ``max(M, N)`` where M and N are the input matrix dimensions.\n",
      "To use the future default and silence this warning we advise to pass `rcond=None`, to keep using the old, explicitly pass `rcond=-1`.\n"
     ]
    },
    {
     "name": "stdout",
     "output_type": "stream",
     "text": [
      "[[ 1.5548013 ]\n",
      " [ 0.72566254]\n",
      " [-1.37030476]\n",
      " [-0.18472715]\n",
      " [ 0.18138465]\n",
      " [ 0.32222399]\n",
      " [ 0.77469911]\n",
      " [-0.62014575]\n",
      " [-2.21131807]\n",
      " [ 0.06091733]]\n",
      "[[ 0.80570412]\n",
      " [ 1.80281398]\n",
      " [-1.7184254 ]\n",
      " [-0.36957958]\n",
      " [ 0.58711053]\n",
      " [ 0.29750114]\n",
      " [-0.16700119]\n",
      " [ 0.19949871]\n",
      " [-1.57263159]\n",
      " [ 0.04468686]]\n",
      "[[ 0.68068539]\n",
      " [-0.28544404]\n",
      " [-0.36437461]\n",
      " [-0.06315937]\n",
      " [ 0.38776738]\n",
      " [ 1.0048939 ]\n",
      " [-0.31005226]\n",
      " [-0.30350935]\n",
      " [ 0.70675161]\n",
      " [-0.00625387]]\n",
      "[[ 1.5548013   0.72566254 -1.37030476]\n",
      " [ 0.80570412  1.80281398 -1.7184254 ]\n",
      " [ 0.68068539 -0.28544404 -0.36437461]]\n",
      "[[-0.18472715  0.18138465  0.32222399]\n",
      " [-0.36957958  0.58711053  0.29750114]\n",
      " [-0.06315937  0.38776738  1.0048939 ]]\n",
      "[[ 0.77469911 -0.62014575 -2.21131807]\n",
      " [-0.16700119  0.19949871 -1.57263159]\n",
      " [-0.31005226 -0.30350935  0.70675161]]\n",
      "[array([0.06091733]), array([0.04468686]), array([-0.00625387])]\n",
      "done\n"
     ]
    }
   ],
   "source": [
    "def reconstruct(path=\"objects/\"):\n",
    "    L = 3 # number of color channels in immage\n",
    "    M = 600 # number of rows in image\n",
    "    N = 800 # number of columns in image\n",
    "\n",
    "    # Read the images into arrays\n",
    "    imgA = io.imread(\"{}regular.png\".format(path)) / 255\n",
    "    imgB = io.imread(\"{}low1.png\".format(path)) / 255\n",
    "    imgC = io.imread(\"{}low2.png\".format(path)) / 255\n",
    "    imgD = io.imread(\"{}low3.png\".format(path)) / 255\n",
    "    imgs = [imgA, imgB, imgC, imgC]\n",
    "\n",
    "    fb = np.zeros((3,3))\n",
    "    fc = np.zeros((3,3))\n",
    "    fd = np.zeros((3,3))\n",
    "    pconst = []\n",
    "\n",
    "    bigA = [] # this will hold a (MxN = 480,000) by 10 (3 channels of pb, 3 channels of pc, 3 channels of pd, and 1 extra \"1\")\n",
    "    for i in range(M):\n",
    "        for j in range(N):\n",
    "            bigA.append([imgB[i][j][0], imgB[i][j][1], imgB[i][j][2], imgC[i][j][0], imgC[i][j][1], imgC[i][j][2], imgD[i][j][0], imgD[i][j][1], imgD[i][j][2], 1])\n",
    "\n",
    "    # we solve Ax=b three times (once per colour channel)\n",
    "    for c in range(L):\n",
    "        b = []\n",
    "\n",
    "        for i in range(M):\n",
    "            for j in range(N):\n",
    "                b.append([imgA[i][j][c]])\n",
    "\n",
    "        solution = np.linalg.lstsq(bigA, b)\n",
    "        lstsqSolution = solution[0]\n",
    "        print(lstsqSolution)\n",
    "\n",
    "        # from the least-square solution, we can populate parts of fb, fc, fd, and pconst\n",
    "        for i in range(L):\n",
    "            fb[c][i] = lstsqSolution[i][0]\n",
    "            fc[c][i] = lstsqSolution[i+3][0]\n",
    "            fd[c][i] = lstsqSolution[i+6][0]\n",
    "        pconst.append(lstsqSolution[9])\n",
    "\n",
    "    print(fb)\n",
    "    print(fc)\n",
    "    print(fd)\n",
    "    print(pconst)\n",
    "\n",
    "    # build the resulting image based on the given formula\n",
    "    imgResult = [[0 for i in range(N)] for j in range(M)]\n",
    "    for i in range(M*N):\n",
    "        pb = np.matrix([[bigA[i][0]], [bigA[i][1]], [bigA[i][2]]])\n",
    "        pc = np.matrix([[bigA[i][3]], [bigA[i][4]], [bigA[i][5]]])\n",
    "        pd = np.matrix([[bigA[i][6]], [bigA[i][7]], [bigA[i][8]]])\n",
    "\n",
    "        # here we compute the new pixel, and we do some manipulation so that it is the right format (array of 3)\n",
    "        pa = np.asarray(np.transpose(fb * pb + fc * pc + fd * pd + pconst))[0]\n",
    "        \n",
    "        # we truncate the values that are out of bounds, and place them in the resulting image\n",
    "        imgResult[i // N][i % N] = list(map(lambda val: -1. if val < -1 else 1. if val > 1 else val, pa))\n",
    "    print(\"done\")\n",
    "    return imgResult\n",
    "\n",
    "q4a = reconstruct()"
   ]
  },
  {
   "cell_type": "code",
   "execution_count": 90,
   "metadata": {},
   "outputs": [
    {
     "name": "stderr",
     "output_type": "stream",
     "text": [
      "/anaconda3/lib/python3.6/site-packages/skimage/util/dtype.py:122: UserWarning: Possible precision loss when converting from float64 to uint8\n",
      "  .format(dtypeobj_in, dtypeobj_out))\n"
     ]
    }
   ],
   "source": [
    "io.imsave(\"q4a.png\",q4a)"
   ]
  },
  {
   "cell_type": "markdown",
   "metadata": {},
   "source": [
    "Which yields images that are not discernable one from another\n",
    "\n",
    "![difference](q4aComparison.png)\n",
    "\n",
    "But, let's compute $S$, the least-square difference."
   ]
  },
  {
   "cell_type": "code",
   "execution_count": 93,
   "metadata": {},
   "outputs": [
    {
     "name": "stdout",
     "output_type": "stream",
     "text": [
      "S: 0.00447806790225389\n"
     ]
    }
   ],
   "source": [
    "S = 0\n",
    "imgSA = io.imread(\"objects/regular.png\") / 255\n",
    "\n",
    "for i in range(M):\n",
    "    for j in range(N):\n",
    "        S += np.linalg.norm(q4a[i][j] - imgSA[i][j], 2) ** 2\n",
    "\n",
    "S /= (M*N)\n",
    "print(\"S: {}\".format(S))"
   ]
  },
  {
   "cell_type": "markdown",
   "metadata": {},
   "source": [
    "#### b) Reconstruct the bears image"
   ]
  },
  {
   "cell_type": "code",
   "execution_count": 89,
   "metadata": {},
   "outputs": [
    {
     "name": "stderr",
     "output_type": "stream",
     "text": [
      "/anaconda3/lib/python3.6/site-packages/ipykernel_launcher.py:30: FutureWarning: `rcond` parameter will change to the default of machine precision times ``max(M, N)`` where M and N are the input matrix dimensions.\n",
      "To use the future default and silence this warning we advise to pass `rcond=None`, to keep using the old, explicitly pass `rcond=-1`.\n"
     ]
    },
    {
     "name": "stdout",
     "output_type": "stream",
     "text": [
      "[[-0.53407804]\n",
      " [ 0.33409064]\n",
      " [-0.54228894]\n",
      " [ 0.45414896]\n",
      " [-0.15617377]\n",
      " [-0.04745726]\n",
      " [ 1.6144717 ]\n",
      " [ 0.32925748]\n",
      " [-1.51698199]\n",
      " [ 0.09729415]]\n",
      "[[-0.58830561]\n",
      " [ 1.89886804]\n",
      " [-1.41845482]\n",
      " [ 0.4934378 ]\n",
      " [ 0.86573698]\n",
      " [ 0.12922298]\n",
      " [ 0.11483303]\n",
      " [ 0.14379726]\n",
      " [-1.3046666 ]\n",
      " [ 0.08303017]]\n",
      "[[-0.10388996]\n",
      " [ 0.25321845]\n",
      " [-0.22574874]\n",
      " [ 0.3019426 ]\n",
      " [ 0.41825296]\n",
      " [ 0.78822098]\n",
      " [-0.1447048 ]\n",
      " [-0.56226902]\n",
      " [ 0.76188169]\n",
      " [ 0.0150218 ]]\n",
      "[[-0.53407804  0.33409064 -0.54228894]\n",
      " [-0.58830561  1.89886804 -1.41845482]\n",
      " [-0.10388996  0.25321845 -0.22574874]]\n",
      "[[ 0.45414896 -0.15617377 -0.04745726]\n",
      " [ 0.4934378   0.86573698  0.12922298]\n",
      " [ 0.3019426   0.41825296  0.78822098]]\n",
      "[[ 1.6144717   0.32925748 -1.51698199]\n",
      " [ 0.11483303  0.14379726 -1.3046666 ]\n",
      " [-0.1447048  -0.56226902  0.76188169]]\n",
      "[array([0.09729415]), array([0.08303017]), array([0.0150218])]\n",
      "done\n"
     ]
    }
   ],
   "source": [
    "q4b = reconstruct(\"bears/\")"
   ]
  },
  {
   "cell_type": "code",
   "execution_count": 91,
   "metadata": {},
   "outputs": [
    {
     "name": "stderr",
     "output_type": "stream",
     "text": [
      "/anaconda3/lib/python3.6/site-packages/skimage/util/dtype.py:122: UserWarning: Possible precision loss when converting from float64 to uint8\n",
      "  .format(dtypeobj_in, dtypeobj_out))\n"
     ]
    }
   ],
   "source": [
    "io.imsave(\"q4b.png\",q4b)"
   ]
  },
  {
   "cell_type": "markdown",
   "metadata": {},
   "source": [
    "Again, if we compare our generated image `q4b.png` to the regular one, there's no visible difference.\n",
    "\n",
    "![difference](q4bComparison.png)\n",
    "\n",
    "Again, let's compute the least-square difference, $T$."
   ]
  },
  {
   "cell_type": "code",
   "execution_count": 94,
   "metadata": {},
   "outputs": [
    {
     "name": "stdout",
     "output_type": "stream",
     "text": [
      "T: 0.0\n"
     ]
    }
   ],
   "source": [
    "T = 0\n",
    "imgTB = io.imread(\"bears/regular.png\") / 255\n",
    "\n",
    "for i in range(M):\n",
    "    for j in range(N):\n",
    "        S += np.linalg.norm(q4b[i][j] - imgTB[i][j], 2) ** 2\n",
    "\n",
    "T /= (M*N)\n",
    "print(\"T: {}\".format(T))"
   ]
  },
  {
   "cell_type": "code",
   "execution_count": null,
   "metadata": {},
   "outputs": [],
   "source": []
  }
 ],
 "metadata": {
  "kernelspec": {
   "display_name": "Python 3",
   "language": "python",
   "name": "python3"
  },
  "language_info": {
   "codemirror_mode": {
    "name": "ipython",
    "version": 3
   },
   "file_extension": ".py",
   "mimetype": "text/x-python",
   "name": "python",
   "nbconvert_exporter": "python",
   "pygments_lexer": "ipython3",
   "version": "3.6.5"
  }
 },
 "nbformat": 4,
 "nbformat_minor": 2
}
