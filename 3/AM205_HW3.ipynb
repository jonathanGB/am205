{
 "cells": [
  {
   "cell_type": "markdown",
   "metadata": {},
   "source": [
    "# AM 205 - Assignment 3\n",
    "\n",
    "## By Jonathan Guillotte-Blouin"
   ]
  },
  {
   "cell_type": "code",
   "execution_count": 1,
   "metadata": {},
   "outputs": [],
   "source": [
    "import numpy as np\n",
    "import numpy.linalg as la\n",
    "import scipy as sp\n",
    "import matplotlib\n",
    "import matplotlib.pyplot as plt\n",
    "import sys"
   ]
  },
  {
   "cell_type": "markdown",
   "metadata": {},
   "source": [
    "### Question 1: Convergence rates of two integrals\n",
    "\n",
    "#### a) Numerically evaluate $I_A$ using the composite trapezoid rule with $n$ intervals of equal size $h$, for $n = 1, 2, ..., 50$."
   ]
  },
  {
   "cell_type": "code",
   "execution_count": 55,
   "metadata": {},
   "outputs": [],
   "source": [
    "def f(x):\n",
    "    return 1/(5/4 - np.cos(x))\n",
    "\n",
    "def composite_trapezoid(a, b, n, f):\n",
    "    js = np.linspace(a, b, n+1)\n",
    "    h = (b - a) / n\n",
    "    \n",
    "    inner_sum = 0\n",
    "    for j in js:\n",
    "        if j == a or j == b:\n",
    "            inner_sum += f(j)/2\n",
    "        else:\n",
    "            inner_sum += f(j)\n",
    "            \n",
    "    return (h, inner_sum * h)\n",
    "\n",
    "# compute I_A and its absolute error\n",
    "a_1a = 0\n",
    "b_1a = np.pi/3\n",
    "real_value_1a = 8*np.pi/9\n",
    "I_1A_h = []\n",
    "I_1A_abserr = []\n",
    "for n in range(1, 51):\n",
    "    h, I_A = composite_trapezoid(a_1a, b_1a, n, f)\n",
    "    I_1A_h.append(h)\n",
    "    I_1A_abserr.append(abs(I_A - real_value_1a))"
   ]
  },
  {
   "cell_type": "markdown",
   "metadata": {},
   "source": [
    "$$f''(x) = \\frac{-\\cos(x)}{(\\frac{5}{4} - \\cos(x))^2} + \\frac{2 \\sin^2(x)}{(\\frac{5}{4} - \\cos(x))^3}$$\n",
    "\n",
    "In the range $0 \\leq x \\leq \\frac{\\pi}{3}$, $||f||_{\\infty} = 16$. Indeed, $|f''(0)| = 16$ and $f'''(0) = 0$, so the point $x = 0$ is a local maximum. The other maximum is lesser (see next figure), so we can safely say $||f||_{\\infty} = 16$."
   ]
  },
  {
   "cell_type": "code",
   "execution_count": 58,
   "metadata": {},
   "outputs": [
    {
     "name": "stdout",
     "output_type": "stream",
     "text": [
      "The maximum value of f'' is 16.0\n"
     ]
    },
    {
     "data": {
      "image/png": "[encoded data removed]",
      "text/plain": [
       "<Figure size 432x288 with 1 Axes>"
      ]
     },
     "metadata": {},
     "output_type": "display_data"
    }
   ],
   "source": [
    "# f''(x)\n",
    "def f2(x):\n",
    "    term1 = -np.cos(x) / (5/4 - np.cos(x))**2\n",
    "    term2 = 2*np.sin(x)**2 / (5/4 - np.cos(x))**3\n",
    "    \n",
    "    return term1 + term2\n",
    "\n",
    "f2_domain = np.linspace(a_1a, b_1a, 100000)\n",
    "plt.scatter(f2_domain, f2(f2_domain))\n",
    "plt.title(\"f''(x)\")\n",
    "print(\"The maximum value of f'' is\",  max([abs(f2(x)) for x in np.linspace(a_1a, b_1a, 100000)]))"
   ]
  },
  {
   "cell_type": "code",
   "execution_count": 53,
   "metadata": {},
   "outputs": [
    {
     "data": {
      "text/plain": [
       "<matplotlib.legend.Legend at 0x111c6c978>"
      ]
     },
     "execution_count": 53,
     "metadata": {},
     "output_type": "execute_result"
    },
    {
     "data": {
      "image/png": "[encoded data removed]",
      "text/plain": [
       "<Figure size 432x288 with 1 Axes>"
      ]
     },
     "metadata": {},
     "output_type": "display_data"
    }
   ],
   "source": [
    "I_1A_errbound = [16 / 36 * np.pi * h**2 for h in I_1A_h]\n",
    "plt.loglog(I_1A_h[1:], I_1A_abserr[1:], label=\"Absolute error\") # removed the first entry, which has an error of 0\n",
    "plt.loglog(I_1A_h[1:], I_1A_errbound[1:], label=\"Error bound\") # removed the first entry, which has an error of 0\n",
    "plt.title(\"Log-log scale of the absolute error related to h\")\n",
    "plt.xlabel(\"h\")\n",
    "plt.ylabel(\"Absolute error\")\n",
    "plt.legend()"
   ]
  },
  {
   "cell_type": "markdown",
   "metadata": {},
   "source": [
    "We can see that the numerically computed results all have an absolute error (in blue) smaller than the error bound (in orange)."
   ]
  },
  {
   "cell_type": "code",
   "execution_count": null,
   "metadata": {},
   "outputs": [],
   "source": []
  }
 ],
 "metadata": {
  "kernelspec": {
   "display_name": "Python 3",
   "language": "python",
   "name": "python3"
  },
  "language_info": {
   "codemirror_mode": {
    "name": "ipython",
    "version": 3
   },
   "file_extension": ".py",
   "mimetype": "text/x-python",
   "name": "python",
   "nbconvert_exporter": "python",
   "pygments_lexer": "ipython3",
   "version": "3.6.5"
  }
 },
 "nbformat": 4,
 "nbformat_minor": 2
}
