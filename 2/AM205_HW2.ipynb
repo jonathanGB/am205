{
 "cells": [
  {
   "cell_type": "markdown",
   "metadata": {},
   "source": [
    "# AM 205 - Assignment 2\n",
    "## By Jonathan Guillotte-Blouin"
   ]
  },
  {
   "cell_type": "code",
   "execution_count": 13,
   "metadata": {},
   "outputs": [],
   "source": [
    "import numpy as np\n",
    "import numpy.linalg as la\n",
    "import scipy.stats\n",
    "import matplotlib\n",
    "import matplotlib.pyplot as plt\n",
    "import sys"
   ]
  },
  {
   "cell_type": "markdown",
   "metadata": {},
   "source": [
    "$\\newcommand{\\N}{\\mathbb{N}}\n",
    "\\newcommand{\\Z}{\\mathbb{Z}}\n",
    "\\newcommand{\\Q}{\\mathbb{Q}}\n",
    "\\newcommand{\\R}{\\mathbb{R}}\n",
    "\\newcommand{\\B}{\\mathbb{B}}\n",
    "\\renewcommand{\\P}{\\mathbb{P}}\n",
    "\\newcommand{\\p}{\\partial}\n",
    "\\newcommand{\\Trans}{\\mathsf{T}}\n",
    "\\renewcommand{\\vec}[1]{\\mathbf{#1}}\n",
    "\\newcommand{\\vx}{\\vec{x}}\n",
    "\\newcommand{\\vb}{\\vec{b}}$"
   ]
  },
  {
   "cell_type": "markdown",
   "metadata": {},
   "source": [
    "### Question 1: Norms and Newton root-finding\n",
    "\n",
    "a) Find four points $b \\in \\R^2$ such that $||b||_2 = 1$ and $||Ab||_2=1$. Plot the two curves $||x||_2=1$ and $||Ax||_2=1$ and mark the points $b$ on this plot."
   ]
  },
  {
   "cell_type": "code",
   "execution_count": 135,
   "metadata": {},
   "outputs": [
    {
     "data": {
      "text/plain": [
       "<matplotlib.legend.Legend at 0x1f2983c5748>"
      ]
     },
     "execution_count": 135,
     "metadata": {},
     "output_type": "execute_result"
    },
    {
     "data": {
      "image/png": "[encoded data removed]",
      "text/plain": [
       "<Figure size 432x288 with 1 Axes>"
      ]
     },
     "metadata": {},
     "output_type": "display_data"
    }
   ],
   "source": [
    "domain_1a = np.linspace(0,2*np.pi, 10000)\n",
    "\n",
    "# generate the points using ellipse functions\n",
    "domain_x1a = [np.cos(t) for t in domain_1a]\n",
    "values_x1a = [np.sin(t) for t in domain_1a]\n",
    "domain_Ax1a = [np.sin(t) for t in domain_1a]\n",
    "values_Ax1a = [-np.cos(t) + 3 * np.sin(t) for t in domain_1a]\n",
    "domain_intersect1a = [2/np.sqrt(13), -2/np.sqrt(13), 0, 0]\n",
    "values_intersect1a = [3/np.sqrt(13), -3/np.sqrt(13), 1, -1]\n",
    "\n",
    "plt.title(r'Plot of $||x||_2$ and $||Ax||_2$, with the points $b$')\n",
    "plt.plot(domain_x1a, values_x1a, 'bo', label=r'$||x||_2 = 1$', linestyle='None')\n",
    "plt.plot(domain_Ax1a, values_Ax1a, 'ro', label=r'$||Ax||_2 = 1$', linestyle='None')\n",
    "plt.plot(domain_intersect1a, values_intersect1a, 'g^', label='b', linestyle='None');\n",
    "plt.xlabel(\"x\")\n",
    "plt.ylabel(\"y\")\n",
    "plt.legend()"
   ]
  },
  {
   "cell_type": "markdown",
   "metadata": {},
   "source": [
    "##### How did I find the four points $b$?\n",
    "\n",
    "We have\n",
    "$A = \\left[\\begin{array}{cc}\n",
    "\t3 & -1 \\\\\n",
    "\t1 & 0\n",
    "      \\end{array}\\right]$\n",
    "and\n",
    "$b = \\left[\\begin{array}{c}\n",
    "\tx \\\\\n",
    "\ty\n",
    "      \\end{array}\\right]$. By the constraints of the problem, we can infer these two equations:\n",
    "      \n",
    "1. $x^2 + y^2 = 1$ (because $||b||_2 = 1$)\n",
    "2. $10x^2 - 6xy + y^2 = 1$ (because $||Ab||_2 = 1$)\n",
    "\n",
    "$$x^2 + y^2 = 10x^2 - 6xy + y^2$$\n",
    "$$9x^2 - 6xy = 0$$\n",
    "$$3x(3x - 2y) = 0$$\n",
    "\n",
    "We have two possibilities to satisfy the system\n",
    "\n",
    "Case 1. $3x = 0$ (therefore $x = 0$)\n",
    "\n",
    "Case 2. $3x - 2y = 0$ (therefore $x = \\frac{2}{3}y$)\n",
    "\n",
    "Given equation 1, we know that $y = \\sqrt{1 - x^2}$. If $x=0$ (case 1), then we have two points: $(0,1)$ and $(0,-1)$. For the second case,\n",
    "\n",
    "$$x^2 + y^2 = (\\frac{2}{3}y)^2 + y^2 = \\frac{4}{9}y^2 + y^2 = \\frac{13}{9}y^2 = 1$$\n",
    "$$y = \\sqrt{\\frac{9}{13}} = \\frac{3}{\\sqrt{13}}$$\n",
    "\n",
    "If $y = \\frac{3}{\\sqrt{13}}$, then we know that $x = \\frac{2}{3}y = \\frac{2}{\\sqrt{13}}$. We therefore have two new points: $(\\frac{2}{\\sqrt{13}}, \\frac{3}{\\sqrt{13}})$ and $(-\\frac{2}{\\sqrt{13}}, -\\frac{3}{\\sqrt{13}})$.\n",
    "\n",
    "To restate: our four points are $(0,1)$, $(0,-1)$, $(\\frac{2}{\\sqrt{13}}, \\frac{3}{\\sqrt{13}})$, and $(-\\frac{2}{\\sqrt{13}}, -\\frac{3}{\\sqrt{13}})$."
   ]
  },
  {
   "cell_type": "code",
   "execution_count": 87,
   "metadata": {},
   "outputs": [
    {
     "data": {
      "text/plain": [
       "2.0"
      ]
     },
     "execution_count": 87,
     "metadata": {},
     "output_type": "execute_result"
    }
   ],
   "source": [
    "np.linalg.norm(np.matrix([[-2],[1]]), np.inf)"
   ]
  },
  {
   "cell_type": "code",
   "execution_count": 137,
   "metadata": {},
   "outputs": [
    {
     "data": {
      "text/plain": [
       "<matplotlib.legend.Legend at 0x1f296bdd668>"
      ]
     },
     "execution_count": 137,
     "metadata": {},
     "output_type": "execute_result"
    },
    {
     "data": {
      "image/png": "[encoded data removed]",
      "text/plain": [
       "<Figure size 432x288 with 1 Axes>"
      ]
     },
     "metadata": {},
     "output_type": "display_data"
    }
   ],
   "source": [
    "domain_1b = np.linspace(-1,1, 1000)\n",
    "\n",
    "domain_x1b = []\n",
    "values_x1b = []\n",
    "domain_Ax1b = []\n",
    "values_Ax1b = []\n",
    "for x in domain_1b:\n",
    "    if abs(x) != 1:\n",
    "        domain_x1b += [x, x]\n",
    "        values_x1b += [1, -1]\n",
    "    else:\n",
    "        domain_x1b += [x] * 1000\n",
    "        values_x1b += [x for x in domain_1b]\n",
    "        \n",
    "    for y in domain_1b:\n",
    "        if abs(max(abs(3*x - y), abs(x)) - 1) < 0.01: # I use an epsilon 0.01 here as an approximation measure\n",
    "            domain_Ax1b.append(x)\n",
    "            values_Ax1b.append(y)\n",
    "domain_intersect1b = [2/3, -2/3, 0, 0]\n",
    "values_intersect1b = [1, -1, 1, -1]     \n",
    "        \n",
    "plt.title(r'Plot of $||x||_\\infty$ and $||Ax||_\\infty$, with the points $c$')\n",
    "plt.plot(domain_x1b, values_x1b, 'bo', label=r'$||x||_\\infty = 1$', linestyle='None')\n",
    "plt.plot(domain_Ax1b, values_Ax1b, 'ro', label=r'$||Ax||_\\infty = 1$', linestyle='None')\n",
    "plt.plot(domain_intersect1b, values_intersect1b, 'g^', label='c', linestyle='None');\n",
    "plt.xlabel(\"x\")\n",
    "plt.ylabel(\"y\")\n",
    "plt.legend()"
   ]
  },
  {
   "cell_type": "markdown",
   "metadata": {},
   "source": [
    "##### How did I find the four points $c$?\n",
    "\n",
    "We have\n",
    "$A = \\left[\\begin{array}{cc}\n",
    "\t3 & -1 \\\\\n",
    "\t1 & 0\n",
    "      \\end{array}\\right]$\n",
    "and\n",
    "$c = \\left[\\begin{array}{c}\n",
    "\tx \\\\\n",
    "\ty\n",
    "      \\end{array}\\right]$. By the constraints of the problem, we can infer these two equations (with corresponding conditions):\n",
    "      \n",
    "1. $||c||_\\infty = \\texttt{max}(|x|, |y|) = 1 \\implies -1 \\leq x \\leq 1, -1 \\leq y \\leq 1, (x = \\pm1 \\, \\texttt{OR} \\, y = \\pm1)$\n",
    "2. $||Ac||_\\infty = \\texttt{max}(|3x-y|, |x|) = 1 \\implies -1 \\leq 3x - y \\leq 1, -1 \\leq x \\leq 1, (x = \\pm1 \\, \\texttt{OR} \\, 3x - y = \\pm1)$\n",
    "\n",
    "If $x = 1$, then (second equation) $|3x-y| = |3-y| \\leq 1$, but that is impossible considering that $|y| \\leq 1$ (equation 1). So, $|3x-y|$ must be equal to 1.\n",
    "\n",
    "\n",
    "If $y = 1$, then $|3x - 1| = 1 \\implies x = \\frac{2}{3}, x = 0$. These two points satisfy all of our conditions, so $(\\frac{2}{3}, 1)$ and $(0, 1)$ are our first two points.\n",
    "\n",
    "If $y = -1$, then $|3x + 1| = 1 \\implies x = -\\frac{2}{3}, x = 0$. These two points satisfy all of our conditions, so $(-\\frac{2}{3}, -1)$ and $(0, -1)$ are our last two points.\n",
    "\n",
    "To restate: our four points are $(\\frac{2}{3}, 1)$, $(0, 1)$, $(-\\frac{2}{3}, -1)$, and $(0, -1)$."
   ]
  },
  {
   "cell_type": "markdown",
   "metadata": {},
   "source": [
    "### Question 2: LU factorization for binary numbers\n",
    "\n",
    "a) Write a function `fsolve`.\n",
    "\n"
   ]
  },
  {
   "cell_type": "code",
   "execution_count": 160,
   "metadata": {},
   "outputs": [
    {
     "data": {
      "text/plain": [
       "array([[1],\n",
       "       [1],\n",
       "       [0],\n",
       "       [1]], dtype=int8)"
      ]
     },
     "execution_count": 160,
     "metadata": {},
     "output_type": "execute_result"
    }
   ],
   "source": [
    "def is_not_binary_matrix(A):\n",
    "    return np.any(A < 0) or np.any(A > 1)\n",
    "\n",
    "def fsolve(L, b, no_singular=True):\n",
    "    # check L and B are binary\n",
    "    if is_not_binary_matrix(L) or is_not_binary_matrix(b):\n",
    "        print(\"We work with binary digits, L or b is not right!\")\n",
    "        sys.exit()\n",
    "    \n",
    "    # check L\n",
    "    for i in range(len(L)):\n",
    "        row = L[i]\n",
    "        \n",
    "        if no_singular and row[i] == 0:\n",
    "            print(\"Diagonal element == 0; singular matrices are not accepted!\")\n",
    "            sys.exit()\n",
    "        \n",
    "        if np.any(row[i+1:] != 0):\n",
    "            print(\"This is not a valid lower triangular matrix!\")\n",
    "            sys.exit()\n",
    "    \n",
    "    # check b\n",
    "    if b.shape != (len(L), 1):\n",
    "        print(\"b should be a vector of length {}\".format(len(L)))\n",
    "        sys.exit()\n",
    "\n",
    "    # solve Lx = b\n",
    "    x = np.zeros((len(b),1),dtype=np.int8)\n",
    "    for i in range(len(L)):\n",
    "        li_left = L[i][:i] # coefficients in L on the current row, but to the left of the diagonal\n",
    "        summedTerms = 0\n",
    "        for j in range(len(li_left)):\n",
    "            summedTerms ^= li_left[j] & x[j][0] # += lij * xj0\n",
    "            \n",
    "        bi = b[i][0]\n",
    "        xi = bi ^ summedTerms # no need to divide by lii, as it has to be \"1s\" on the diagonal\n",
    "        x[i] = np.array([xi],dtype=np.int8)\n",
    "\n",
    "    return x\n",
    "\n",
    "l=np.array([[1,0,0,0],[0,1,0,0],[1,1,1,0],[1,0,1,1]],dtype=np.int8)\n",
    "b=np.array([[1,],[1],[0],[0]],dtype=np.int8)\n",
    "\n",
    "fsolve(l,b)"
   ]
  },
  {
   "cell_type": "markdown",
   "metadata": {},
   "source": [
    "b) Write a function `rsolve`."
   ]
  },
  {
   "cell_type": "code",
   "execution_count": 151,
   "metadata": {},
   "outputs": [
    {
     "data": {
      "text/plain": [
       "array([[0],\n",
       "       [1],\n",
       "       [0],\n",
       "       [0]], dtype=int8)"
      ]
     },
     "execution_count": 151,
     "metadata": {},
     "output_type": "execute_result"
    }
   ],
   "source": [
    "def rsolve(L, b, no_singular=True):\n",
    "    # check L and B are binary\n",
    "    if is_not_binary_matrix(L) or is_not_binary_matrix(b):\n",
    "        print(\"We work with binary digits, L or b is not right!\")\n",
    "        sys.exit()\n",
    "    \n",
    "    # check L\n",
    "    for i in range(len(L)):\n",
    "        row = L[i]\n",
    "        \n",
    "        if no_singular and row[i] == 0:\n",
    "            print(\"Diagonal element == 0; singular matrices are not accepted!\")\n",
    "            sys.exit()\n",
    "        \n",
    "        if np.any(row[:i] != 0):\n",
    "            print(\"This is not a valid upper triangular matrix!\")\n",
    "            sys.exit()\n",
    "    \n",
    "    # check b\n",
    "    if b.shape != (len(L), 1):\n",
    "        print(\"b should be a vector of length {}\".format(len(L)))\n",
    "        sys.exit()\n",
    "\n",
    "    # solve Lx = b\n",
    "    x = np.zeros((len(b),1),dtype=np.int8)\n",
    "    for i in reversed(range(len(L))):\n",
    "        li_right = L[i][i+1:] # coefficients in L on the current row, but to the right of the diagonal\n",
    "        summedTerms = 0\n",
    "        for j in range(len(li_right)):\n",
    "            summedTerms ^= li_right[j] & x[i+j+1][0] # we need to do x[i+j+1] to get the right index in `x`, because `li_right` is dephased\n",
    "            \n",
    "        bi = b[i][0]\n",
    "        xi = bi ^ summedTerms # no need to divide by lii, as it has to be \"1s\" on the diagonal\n",
    "        x[i] = np.array([xi],dtype=np.int8)\n",
    "\n",
    "    return x\n",
    "\n",
    "u=np.array([[1,1,1,1],[0,1,1,1],[0,0,1,1],[0,0,0,1]],dtype=np.int8)\n",
    "\n",
    "rsolve(u,b)"
   ]
  },
  {
   "cell_type": "markdown",
   "metadata": {},
   "source": [
    "c) Write a program to calculate the LU factorization with partial pivoting."
   ]
  },
  {
   "cell_type": "code",
   "execution_count": 152,
   "metadata": {},
   "outputs": [
    {
     "data": {
      "text/plain": [
       "(array([[0, 1, 0],\n",
       "        [0, 0, 1],\n",
       "        [1, 0, 0]], dtype=int8), array([[1, 0, 0],\n",
       "        [1, 1, 0],\n",
       "        [0, 0, 1]], dtype=int8), array([[1, 0, 0],\n",
       "        [0, 1, 1],\n",
       "        [0, 0, 1]], dtype=int8))"
      ]
     },
     "execution_count": 152,
     "metadata": {},
     "output_type": "execute_result"
    }
   ],
   "source": [
    "def findPivot(col):\n",
    "    for i in range(len(col)):\n",
    "        if col[i] == 1:\n",
    "            return i\n",
    "    else:\n",
    "        return 0\n",
    "\n",
    "def swap(A, i, j):\n",
    "    tmp = np.copy(A[i])\n",
    "    A[i] = A[j]\n",
    "    A[j] = tmp\n",
    "    \n",
    "def get_PLU(A):\n",
    "    # pivot (should give us P, L, U)\n",
    "    P = np.identity(len(A),dtype=np.int8)\n",
    "    L = np.zeros((len(A),len(A)),dtype=np.int8)\n",
    "    U = np.copy(A)\n",
    "    \n",
    "    for i in range(len(A) - 1): # -1 because there's nothing to do on the last row\n",
    "        pivotIndex = i + findPivot(A[i:,i]) # add i to keep track of the right row\n",
    "\n",
    "        # do we swap rows?\n",
    "        if pivotIndex != i:\n",
    "            swap(P, i, pivotIndex)\n",
    "            swap(U, i, pivotIndex)\n",
    "            swap(L, i, pivotIndex)\n",
    "        \n",
    "        # reduce\n",
    "        pivot, pivotRow = U[i][i], U[i][i:]\n",
    "        underneath = U[i+1:,i:] # sub-matrix underneath the pivotRow, ignoring what's to the left too\n",
    "        for j in range(len(underneath)):\n",
    "            underneath_row = underneath[j]\n",
    "            multiplier = 0\n",
    "\n",
    "            for k in range(len(underneath_row)):\n",
    "                currCell = underneath_row[k]\n",
    "                \n",
    "                # calculate row's multiplier if in column under the pivot\n",
    "                if k == 0:\n",
    "                    multiplier = 0 if currCell == 0 else 1\n",
    "                    \n",
    "                    # update L and the current cell, if multiplier is not 0\n",
    "                    if multiplier == 1:\n",
    "                        L[i+j+1][i] = 1\n",
    "                        U[i+1+j][i] = 0                \n",
    "                elif multiplier == 1:\n",
    "                    U[i+j+1][i+k] ^= pivotRow[k] # do the difference\n",
    "    \n",
    "    # add the '1s' on the diagonal of L\n",
    "    for i in range(len(L)):\n",
    "        L[i][i] = 1\n",
    "    \n",
    "    return (P, L, U)\n",
    "\n",
    "A1 = np.array([[0,0,1],[1,0,0],[1,1,1]],dtype=np.int8)\n",
    "get_PLU(A1)"
   ]
  },
  {
   "cell_type": "markdown",
   "metadata": {},
   "source": [
    "d) Find the solutions $x$ to both linear systems (small and large)"
   ]
  },
  {
   "cell_type": "code",
   "execution_count": 161,
   "metadata": {},
   "outputs": [
    {
     "data": {
      "text/plain": [
       "(array([[0, 1, 0],\n",
       "        [0, 0, 1],\n",
       "        [1, 0, 0]], dtype=int8), array([[1, 0, 0],\n",
       "        [1, 1, 0],\n",
       "        [0, 0, 1]], dtype=int8), array([[1, 0, 0],\n",
       "        [0, 1, 1],\n",
       "        [0, 0, 1]], dtype=int8), array([[1],\n",
       "        [0],\n",
       "        [1]], dtype=int8))"
      ]
     },
     "execution_count": 161,
     "metadata": {},
     "output_type": "execute_result"
    }
   ],
   "source": [
    "# taken from the files\n",
    "def bin_mul(c,d):\n",
    "    # Check that the dimensions of the matrices are compatible\n",
    "    (m,n)=c.shape\n",
    "    (nn,p)=d.shape\n",
    "    if n!=nn:\n",
    "        print(\"Matrix size mismatch\")\n",
    "        sys.exit()\n",
    "\n",
    "    # Initalize blank matrix of integer zeros\n",
    "    e=np.zeros((m,p),dtype=np.int8)\n",
    "\n",
    "    # Calculate each term, using \"&\" instead of \"*\" and \"^\" instead of \"+\"\n",
    "    for i in range(m):\n",
    "        for j in range(p):\n",
    "            for k in range(n):\n",
    "                e[i,j]=e[i,j]^(c[i,k]&d[k,j])\n",
    "    return e\n",
    "\n",
    "def LU(A, b, no_singular=True):\n",
    "    P, L, U = get_PLU(A)\n",
    "    \n",
    "    pb = bin_mul(P, b)\n",
    "    y = fsolve(L, pb, no_singular)\n",
    "    return (P, L, U, rsolve(U, y, no_singular))\n",
    "\n",
    "b1 = np.array([[1],[1],[0]],dtype=np.int8)\n",
    "LU(A1, b1)"
   ]
  },
  {
   "cell_type": "code",
   "execution_count": 162,
   "metadata": {},
   "outputs": [
    {
     "name": "stdout",
     "output_type": "stream",
     "text": [
      "Ax = b (for small)\n",
      "[[0]\n",
      " [1]\n",
      " [0]\n",
      " [1]\n",
      " [0]\n",
      " [1]\n",
      " [0]\n",
      " [1]\n",
      " [1]\n",
      " [1]\n",
      " [1]\n",
      " [1]\n",
      " [0]\n",
      " [1]]\n",
      "\n",
      "\n",
      "Ax = b (for big)\n",
      "[[1]\n",
      " [0]\n",
      " [1]\n",
      " [0]\n",
      " [0]\n",
      " [1]\n",
      " [0]\n",
      " [1]\n",
      " [1]\n",
      " [1]\n",
      " [0]\n",
      " [1]\n",
      " [0]\n",
      " [0]\n",
      " [1]\n",
      " [0]\n",
      " [0]\n",
      " [0]\n",
      " [0]\n",
      " [0]\n",
      " [1]\n",
      " [0]\n",
      " [1]\n",
      " [1]\n",
      " [1]\n",
      " [0]\n",
      " [1]\n",
      " [0]\n",
      " [0]\n",
      " [0]\n",
      " [1]\n",
      " [1]\n",
      " [0]\n",
      " [0]\n",
      " [1]\n",
      " [1]\n",
      " [1]\n",
      " [1]\n",
      " [0]\n",
      " [0]\n",
      " [0]\n",
      " [0]\n",
      " [0]\n",
      " [1]\n",
      " [1]\n",
      " [0]\n",
      " [1]\n",
      " [1]\n",
      " [0]\n",
      " [1]\n",
      " [1]\n",
      " [0]\n",
      " [0]\n",
      " [0]\n",
      " [0]\n",
      " [1]\n",
      " [0]\n",
      " [0]\n",
      " [0]\n",
      " [1]\n",
      " [1]\n",
      " [1]\n",
      " [1]\n",
      " [0]\n",
      " [0]\n",
      " [0]\n",
      " [0]\n",
      " [1]\n",
      " [0]\n",
      " [1]\n",
      " [0]]\n"
     ]
    }
   ],
   "source": [
    "def read_file_into_matrix(path_to_file):\n",
    "    with open(path_to_file) as f:\n",
    "        content = f.readlines()\n",
    "        return np.array([x.strip().split(\" \") for x in content],dtype=np.int8)\n",
    "        \n",
    "A_small, b_small = read_file_into_matrix(\"a_small.txt\"), read_file_into_matrix(\"b_small.txt\")\n",
    "\n",
    "print(\"Ax = b (for small)\")\n",
    "P_small, L_small, U_small, x_small = LU(A_small, b_small, no_singular=False)\n",
    "print(x_small)\n",
    "print(\"\\n\")\n",
    "\n",
    "A_big, b_big = read_file_into_matrix(\"a_big.txt\"), read_file_into_matrix(\"b_big.txt\")\n",
    "\n",
    "print(\"Ax = b (for big)\")\n",
    "P_big, L_big, U_big, x_big = LU(A_big, b_big, no_singular=False)\n",
    "print(x_big)"
   ]
  },
  {
   "cell_type": "markdown",
   "metadata": {},
   "source": [
    "### Question 3: The light game\n",
    "\n",
    "a) Find four points $b \\in \\R^2$ such that $||b||_2 = 1$ and $||Ab||_2=1$. Plot the two curves $||x||_2=1$ and $||Ax||_2=1$ and mark the points $b$ on this plot."
   ]
  }
 ],
 "metadata": {
  "kernelspec": {
   "display_name": "Python 3",
   "language": "python",
   "name": "python3"
  },
  "language_info": {
   "codemirror_mode": {
    "name": "ipython",
    "version": 3
   },
   "file_extension": ".py",
   "mimetype": "text/x-python",
   "name": "python",
   "nbconvert_exporter": "python",
   "pygments_lexer": "ipython3",
   "version": "3.6.5"
  }
 },
 "nbformat": 4,
 "nbformat_minor": 2
}
