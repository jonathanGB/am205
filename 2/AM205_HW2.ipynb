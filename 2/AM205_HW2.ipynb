{
 "cells": [
  {
   "cell_type": "markdown",
   "metadata": {},
   "source": [
    "# AM 205 - Assignment 2\n",
    "## By Jonathan Guillotte-Blouin"
   ]
  },
  {
   "cell_type": "code",
   "execution_count": 326,
   "metadata": {},
   "outputs": [],
   "source": [
    "import numpy as np\n",
    "import numpy.linalg as la\n",
    "import scipy as sp\n",
    "import matplotlib\n",
    "import matplotlib.pyplot as plt\n",
    "import sys"
   ]
  },
  {
   "cell_type": "markdown",
   "metadata": {},
   "source": [
    "$\\newcommand{\\N}{\\mathbb{N}}\n",
    "\\newcommand{\\Z}{\\mathbb{Z}}\n",
    "\\newcommand{\\Q}{\\mathbb{Q}}\n",
    "\\newcommand{\\R}{\\mathbb{R}}\n",
    "\\newcommand{\\B}{\\mathbb{B}}\n",
    "\\renewcommand{\\P}{\\mathbb{P}}\n",
    "\\newcommand{\\p}{\\partial}\n",
    "\\newcommand{\\Trans}{\\mathsf{T}}\n",
    "\\renewcommand{\\vec}[1]{\\mathbf{#1}}\n",
    "\\newcommand{\\vx}{\\vec{x}}\n",
    "\\newcommand{\\vb}{\\vec{b}}$"
   ]
  },
  {
   "cell_type": "markdown",
   "metadata": {},
   "source": [
    "### Question 1: Norms and Newton root-finding\n",
    "\n",
    "a) Find four points $b \\in \\R^2$ such that $||b||_2 = 1$ and $||Ab||_2=1$. Plot the two curves $||x||_2=1$ and $||Ax||_2=1$ and mark the points $b$ on this plot."
   ]
  },
  {
   "cell_type": "code",
   "execution_count": 612,
   "metadata": {},
   "outputs": [
    {
     "data": {
      "text/plain": [
       "<matplotlib.legend.Legend at 0x1a211297f0>"
      ]
     },
     "execution_count": 612,
     "metadata": {},
     "output_type": "execute_result"
    },
    {
     "data": {
      "image/png": "[encoded data removed]",
      "text/plain": [
       "<Figure size 432x288 with 1 Axes>"
      ]
     },
     "metadata": {},
     "output_type": "display_data"
    }
   ],
   "source": [
    "domain_1a = np.linspace(0,2*np.pi, 10000)\n",
    "\n",
    "# generate the points using ellipse functions\n",
    "domain_x1a = [np.cos(t) for t in domain_1a]\n",
    "values_x1a = [np.sin(t) for t in domain_1a]\n",
    "domain_Ax1a = [np.sin(t) for t in domain_1a]\n",
    "values_Ax1a = [-np.cos(t) + 3 * np.sin(t) for t in domain_1a]\n",
    "domain_intersect1a = [2/np.sqrt(13), -2/np.sqrt(13), 0, 0]\n",
    "values_intersect1a = [3/np.sqrt(13), -3/np.sqrt(13), 1, -1]\n",
    "\n",
    "plt.title(r'Plot of $||x||_2$ and $||Ax||_2$, with the points $b$')\n",
    "plt.plot(domain_x1a, values_x1a, 'bo', label=r'$||x||_2 = 1$', linestyle='None')\n",
    "plt.plot(domain_Ax1a, values_Ax1a, 'ro', label=r'$||Ax||_2 = 1$', linestyle='None')\n",
    "plt.plot(domain_intersect1a, values_intersect1a, 'g^', label='b', linestyle='None');\n",
    "plt.xlabel(\"x\")\n",
    "plt.ylabel(\"y\")\n",
    "plt.legend()"
   ]
  },
  {
   "cell_type": "markdown",
   "metadata": {},
   "source": [
    "##### How did I find the four points $b$?\n",
    "\n",
    "We have\n",
    "$A = \\left[\\begin{array}{cc}\n",
    "\t3 & -1 \\\\\n",
    "\t1 & 0\n",
    "      \\end{array}\\right]$\n",
    "and\n",
    "$b = \\left[\\begin{array}{c}\n",
    "\tx \\\\\n",
    "\ty\n",
    "      \\end{array}\\right]$. By the constraints of the problem, we can infer these two equations:\n",
    "      \n",
    "1. $x^2 + y^2 = 1$ (because $||b||_2 = 1$)\n",
    "2. $10x^2 - 6xy + y^2 = 1$ (because $||Ab||_2 = 1$)\n",
    "\n",
    "$$x^2 + y^2 = 10x^2 - 6xy + y^2$$\n",
    "$$9x^2 - 6xy = 0$$\n",
    "$$3x(3x - 2y) = 0$$\n",
    "\n",
    "We have two possibilities to satisfy the system\n",
    "\n",
    "Case 1. $3x = 0$ (therefore $x = 0$)\n",
    "\n",
    "Case 2. $3x - 2y = 0$ (therefore $x = \\frac{2}{3}y$)\n",
    "\n",
    "Given equation 1, we know that $y = \\sqrt{1 - x^2}$. If $x=0$ (case 1), then we have two points: $(0,1)$ and $(0,-1)$. For the second case,\n",
    "\n",
    "$$x^2 + y^2 = (\\frac{2}{3}y)^2 + y^2 = \\frac{4}{9}y^2 + y^2 = \\frac{13}{9}y^2 = 1$$\n",
    "$$y = \\sqrt{\\frac{9}{13}} = \\frac{3}{\\sqrt{13}}$$\n",
    "\n",
    "If $y = \\frac{3}{\\sqrt{13}}$, then we know that $x = \\frac{2}{3}y = \\frac{2}{\\sqrt{13}}$. We therefore have two new points: $(\\frac{2}{\\sqrt{13}}, \\frac{3}{\\sqrt{13}})$ and $(-\\frac{2}{\\sqrt{13}}, -\\frac{3}{\\sqrt{13}})$.\n",
    "\n",
    "To restate: our four points are $(0,1)$, $(0,-1)$, $(\\frac{2}{\\sqrt{13}}, \\frac{3}{\\sqrt{13}})$, and $(-\\frac{2}{\\sqrt{13}}, -\\frac{3}{\\sqrt{13}})$."
   ]
  },
  {
   "cell_type": "markdown",
   "metadata": {},
   "source": [
    "b) Find four points $c \\in \\R^2$ such that $||c||_{\\infty} = 1$ and $||Ac||_{\\infty}=1$. Plot the two curves $||x||_{\\infty}=1$ and $||Ax||_{\\infty}=1$ and mark the points $c$ on this plot."
   ]
  },
  {
   "cell_type": "code",
   "execution_count": 613,
   "metadata": {},
   "outputs": [
    {
     "data": {
      "text/plain": [
       "<matplotlib.legend.Legend at 0x1a2139ef98>"
      ]
     },
     "execution_count": 613,
     "metadata": {},
     "output_type": "execute_result"
    },
    {
     "data": {
      "image/png": "[encoded data removed]",
      "text/plain": [
       "<Figure size 432x288 with 1 Axes>"
      ]
     },
     "metadata": {},
     "output_type": "display_data"
    }
   ],
   "source": [
    "domain_1b = np.linspace(-1,1, 1000)\n",
    "\n",
    "domain_x1b = []\n",
    "values_x1b = []\n",
    "domain_Ax1b = []\n",
    "values_Ax1b = []\n",
    "for x in domain_1b:\n",
    "    if abs(x) != 1:\n",
    "        domain_x1b += [x, x]\n",
    "        values_x1b += [1, -1]\n",
    "    else:\n",
    "        domain_x1b += [x] * 1000\n",
    "        values_x1b += [x for x in domain_1b]\n",
    "        \n",
    "    for y in domain_1b:\n",
    "        if abs(max(abs(3*x - y), abs(x)) - 1) < 0.01: # I use an epsilon 0.01 here as an approximation measure\n",
    "            domain_Ax1b.append(x)\n",
    "            values_Ax1b.append(y)\n",
    "domain_intersect1b = [2/3, -2/3, 0, 0]\n",
    "values_intersect1b = [1, -1, 1, -1]     \n",
    "        \n",
    "plt.title(r'Plot of $||x||_\\infty$ and $||Ax||_\\infty$, with the points $c$')\n",
    "plt.plot(domain_x1b, values_x1b, 'bo', label=r'$||x||_\\infty = 1$', linestyle='None')\n",
    "plt.plot(domain_Ax1b, values_Ax1b, 'ro', label=r'$||Ax||_\\infty = 1$', linestyle='None')\n",
    "plt.plot(domain_intersect1b, values_intersect1b, 'g^', label='c', linestyle='None');\n",
    "plt.xlabel(\"x\")\n",
    "plt.ylabel(\"y\")\n",
    "plt.legend()"
   ]
  },
  {
   "cell_type": "markdown",
   "metadata": {},
   "source": [
    "##### How did I find the four points $c$?\n",
    "\n",
    "We have\n",
    "$A = \\left[\\begin{array}{cc}\n",
    "\t3 & -1 \\\\\n",
    "\t1 & 0\n",
    "      \\end{array}\\right]$\n",
    "and\n",
    "$c = \\left[\\begin{array}{c}\n",
    "\tx \\\\\n",
    "\ty\n",
    "      \\end{array}\\right]$. By the constraints of the problem, we can infer these two equations (with corresponding conditions):\n",
    "      \n",
    "1. $||c||_\\infty = \\texttt{max}(|x|, |y|) = 1 \\implies -1 \\leq x \\leq 1, -1 \\leq y \\leq 1, (x = \\pm1 \\, \\texttt{OR} \\, y = \\pm1)$\n",
    "2. $||Ac||_\\infty = \\texttt{max}(|3x-y|, |x|) = 1 \\implies -1 \\leq 3x - y \\leq 1, -1 \\leq x \\leq 1, (x = \\pm1 \\, \\texttt{OR} \\, 3x - y = \\pm1)$\n",
    "\n",
    "If $x = 1$, then (second equation) $|3x-y| = |3-y| \\leq 1$, but that is impossible considering that $|y| \\leq 1$ (equation 1). So, $|3x-y|$ must be equal to 1.\n",
    "\n",
    "\n",
    "If $y = 1$, then $|3x - 1| = 1 \\implies x = \\frac{2}{3}, x = 0$. These two points satisfy all of our conditions, so $(\\frac{2}{3}, 1)$ and $(0, 1)$ are our first two points.\n",
    "\n",
    "If $y = -1$, then $|3x + 1| = 1 \\implies x = -\\frac{2}{3}, x = 0$. These two points satisfy all of our conditions, so $(-\\frac{2}{3}, -1)$ and $(0, -1)$ are our last two points.\n",
    "\n",
    "To restate: our four points are $(\\frac{2}{3}, 1)$, $(0, 1)$, $(-\\frac{2}{3}, -1)$, and $(0, -1)$."
   ]
  },
  {
   "cell_type": "markdown",
   "metadata": {},
   "source": [
    "c) Write a program to find four solutions to the equation $f(d) = (0,0)$ using the vector generalization of the Newton root finding method. "
   ]
  },
  {
   "cell_type": "code",
   "execution_count": 572,
   "metadata": {},
   "outputs": [],
   "source": [
    "def build_jacobian(d):\n",
    "    x = d[0]\n",
    "    y = d[1]\n",
    "    \n",
    "    jacobian = np.zeros((2,2))\n",
    "    \n",
    "    jacobian[0][0] = x**3 / (x**4+y**4)**(3/4)\n",
    "    jacobian[0][1] = y**3 / (x**4+y**4)**(3/4)\n",
    "    jacobian[1][0] = (4*x**3 + 12*(3*x-y)**3)/(4*((3*x-y)**4 + x**4)**(3/4))\n",
    "    jacobian[1][1] = -(3*x-y)**3 / ((3*x-y)**4 + x**4)**(3/4)\n",
    "    \n",
    "    return jacobian\n",
    "\n",
    "def f_xk(A, d):\n",
    "    return np.array([np.linalg.norm(d, 4) - 1, np.linalg.norm(np.dot(A,d), 4) - 1]).T\n",
    "\n",
    "def compute_newton(A, d):\n",
    "    return np.linalg.solve(build_jacobian(d), -f_xk(A, d))\n",
    "\n",
    "A = np.array([[3, -1], [1, 0]])\n",
    "seeds_x = []\n",
    "seeds_y = []\n",
    "ds_x = []\n",
    "ds_y = []\n",
    "for _ in range(50): # try 50 different seeds\n",
    "    xk = np.array([sp.stats.uniform.rvs(-10,20), sp.stats.uniform.rvs(-10,20)]).T # random seed\n",
    "    seeds_x.append(xk[0])\n",
    "    seeds_y.append(xk[1])\n",
    "\n",
    "\n",
    "    while True:\n",
    "        sk = compute_newton(A, xk)\n",
    "        xk += sk\n",
    "\n",
    "        if np.linalg.norm(sk,1) < 0.000000000000001:\n",
    "           break\n",
    "\n",
    "    ds_x.append(xk[0])\n",
    "    ds_y.append(xk[1])"
   ]
  },
  {
   "cell_type": "code",
   "execution_count": 570,
   "metadata": {},
   "outputs": [
    {
     "data": {
      "text/plain": [
       "Text(0,0.5,'y')"
      ]
     },
     "execution_count": 570,
     "metadata": {},
     "output_type": "execute_result"
    },
    {
     "data": {
      "image/png": "[encoded data removed]",
      "text/plain": [
       "<Figure size 432x288 with 1 Axes>"
      ]
     },
     "metadata": {},
     "output_type": "display_data"
    }
   ],
   "source": [
    "plt.scatter(seeds_x, seeds_y)\n",
    "plt.title(\"Scatter of the 50 seeds used\")\n",
    "plt.xlabel(\"x\")\n",
    "plt.ylabel(\"y\")"
   ]
  },
  {
   "cell_type": "code",
   "execution_count": 573,
   "metadata": {
    "scrolled": true
   },
   "outputs": [
    {
     "data": {
      "text/plain": [
       "Text(0,0.5,'y')"
      ]
     },
     "execution_count": 573,
     "metadata": {},
     "output_type": "execute_result"
    },
    {
     "data": {
      "image/png": "[encoded data removed]",
      "text/plain": [
       "<Figure size 432x288 with 1 Axes>"
      ]
     },
     "metadata": {},
     "output_type": "display_data"
    }
   ],
   "source": [
    "plt.scatter(ds_x, ds_y)\n",
    "plt.title(\"Scatter of the 50 convergence points\")\n",
    "plt.xlabel(\"x\")\n",
    "plt.ylabel(\"y\")"
   ]
  },
  {
   "cell_type": "code",
   "execution_count": 600,
   "metadata": {},
   "outputs": [
    {
     "data": {
      "text/plain": [
       "<matplotlib.legend.Legend at 0x1a21f14908>"
      ]
     },
     "execution_count": 600,
     "metadata": {},
     "output_type": "execute_result"
    },
    {
     "data": {
      "image/png": "[encoded data removed]",
      "text/plain": [
       "<Figure size 432x288 with 1 Axes>"
      ]
     },
     "metadata": {},
     "output_type": "display_data"
    }
   ],
   "source": [
    "def generate_d_y(x):\n",
    "    return (1 - x**(4))**(1/4)\n",
    "            \n",
    "def generate_pos_Ad_y(x):\n",
    "    return 3*x - (1 - x**4)**(1/4)\n",
    "\n",
    "def generate_neg_Ad_y(x):\n",
    "    return 3*x + (1 - x**4)**(0.25)\n",
    "\n",
    "domain_x1c = np.linspace(-1, 1, 300)\n",
    "    \n",
    "plt.plot(domain_x1c, generate_pos_Ad_y(domain_x1c), color='g', label=r'$||Ad||_{2}$')\n",
    "plt.plot(domain_x1c, generate_neg_Ad_y(domain_x1c), color='g')\n",
    "plt.plot(domain_x1c, generate_d_y(domain_x1c), color='b', label=r'$||d||_{2}$')\n",
    "plt.plot(domain_x1c, -generate_d_y(domain_x1c), color='b')\n",
    "plt.scatter(ds_x, ds_y, color='r')\n",
    "plt.title(r'$||Ad||_{2}$, $||d||_{2}$, and the 50 convergence points generated')\n",
    "plt.xlabel('x')\n",
    "plt.ylabel('y')\n",
    "plt.legend()"
   ]
  },
  {
   "cell_type": "markdown",
   "metadata": {},
   "source": [
    "Our points $d$ seem to be the same as the points $c$, except with some imprecision due to the nature of finding them via Newton's method. The four points are \n",
    "* $(-0.6372899387668439, -0.9559349081502658)$, which is close to $(-\\frac{2}{3}, -1)$\n",
    "* $(1.5973912007953097e-17, -1.0)$, which is close to $(0,-1)$\n",
    "* $(0.6372899387668438, 0.9559349081502658)$, which is close to $(\\frac{2}{3}, 1)$\n",
    "* $(-2.3129673919044513e-17, 1.0)$, which is close to $(0,1)$"
   ]
  },
  {
   "cell_type": "markdown",
   "metadata": {},
   "source": [
    "d) Show that the 12 points $b$, $c$, and $d$ lie on two straight lines, and why."
   ]
  },
  {
   "cell_type": "code",
   "execution_count": 779,
   "metadata": {},
   "outputs": [
    {
     "data": {
      "text/plain": [
       "Text(0,0.5,'y')"
      ]
     },
     "execution_count": 779,
     "metadata": {},
     "output_type": "execute_result"
    },
    {
     "data": {
      "image/png": "[encoded data removed]",
      "text/plain": [
       "<Figure size 432x288 with 1 Axes>"
      ]
     },
     "metadata": {},
     "output_type": "display_data"
    }
   ],
   "source": [
    "line_1 = lambda x: 3*x/2\n",
    "\n",
    "domain_x1d = np.linspace(-1,1,10)\n",
    "\n",
    "plt.plot(domain_x1d, line_1(domain_x1d), color='r', linestyle='--') # line 1\n",
    "plt.axvline(0, linestyle='--') # line 2\n",
    "plt.plot(domain_intersect1a, values_intersect1a, 'g^', label='b');\n",
    "plt.plot(domain_intersect1b, values_intersect1b, 'c^', label='c');\n",
    "plt.scatter(ds_x, ds_y, color='m')\n",
    "plt.title(\"b, c, and d points, as well as the two straight lines that pass through them all\")\n",
    "plt.xlabel(\"x\")\n",
    "plt.ylabel(\"y\")"
   ]
  },
  {
   "cell_type": "markdown",
   "metadata": {},
   "source": [
    "So, why are these two straight lines passing through the three families of points?\n",
    "\n",
    "If we look at the constraints described in *b)*, we know that the points in *c* pass through three different pairs of lines:\n",
    "\n",
    "* $y = 1$ and $y = -1$\n",
    "* $y = 3x-1$ and $y = 3x+1$\n",
    "* $y = \\frac{3x}{2}$ and $x = 0$\n",
    "\n",
    "If we look at the constraints described in *a*, we know that the points in *b* must satisfy:\n",
    "* $x^2 + y^2 = 1$ and\n",
    "* $(3x-y)^2 + x^2 = 1$\n",
    "\n",
    "If we substract them, we get\n",
    "\n",
    "$$ y^2 - (3x-y)^2 = 0$$\n",
    "$$ y = 3x - y \\texttt{ or } y = -3x + y$$\n",
    "$$ y = \\frac{3x}{2} \\texttt{ or } x = 0$$\n",
    "\n",
    "The first two pairs of lines satisfying points in *c* are discarded, but the third pair of lines could still satisfy points in *b* and *c*. But, does it satisfy points in *d*? These points have the following constraints:\n",
    "* $x^4 + y^4 = 1$ and\n",
    "* $(3x-y)^4 + x^4 = 1$\n",
    "\n",
    "If we substract them, we get\n",
    "\n",
    "$$ y^4 - (3x-y)^4 = 0$$\n",
    "$$ y = 3x - y \\texttt{ or } y = -3x + y$$\n",
    "$$ y = \\frac{3x}{2} \\texttt{ or } x = 0$$\n",
    "\n",
    "Points in *d* have not added any constraints, which makes sense because they follow the same pattern as points in *b*. Therefore, the third pair of straight lines $y = \\frac{3x}{2}$ and $x = 0$ satisfy all three families of points, which is why these two specific lines pass through all the points."
   ]
  },
  {
   "cell_type": "markdown",
   "metadata": {},
   "source": [
    "### Question 2: LU factorization for binary numbers\n",
    "\n",
    "a) Write a function `fsolve`.\n",
    "\n"
   ]
  },
  {
   "cell_type": "code",
   "execution_count": 160,
   "metadata": {},
   "outputs": [
    {
     "data": {
      "text/plain": [
       "array([[1],\n",
       "       [1],\n",
       "       [0],\n",
       "       [1]], dtype=int8)"
      ]
     },
     "execution_count": 160,
     "metadata": {},
     "output_type": "execute_result"
    }
   ],
   "source": [
    "def is_not_binary_matrix(A):\n",
    "    return np.any(A < 0) or np.any(A > 1)\n",
    "\n",
    "def fsolve(L, b, no_singular=True):\n",
    "    # check L and B are binary\n",
    "    if is_not_binary_matrix(L) or is_not_binary_matrix(b):\n",
    "        print(\"We work with binary digits, L or b is not right!\")\n",
    "        sys.exit()\n",
    "    \n",
    "    # check L\n",
    "    for i in range(len(L)):\n",
    "        row = L[i]\n",
    "        \n",
    "        if no_singular and row[i] == 0:\n",
    "            print(\"Diagonal element == 0; singular matrices are not accepted!\")\n",
    "            sys.exit()\n",
    "        \n",
    "        if np.any(row[i+1:] != 0):\n",
    "            print(\"This is not a valid lower triangular matrix!\")\n",
    "            sys.exit()\n",
    "    \n",
    "    # check b\n",
    "    if b.shape != (len(L), 1):\n",
    "        print(\"b should be a vector of length {}\".format(len(L)))\n",
    "        sys.exit()\n",
    "\n",
    "    # solve Lx = b\n",
    "    x = np.zeros((len(b),1),dtype=np.int8)\n",
    "    for i in range(len(L)):\n",
    "        li_left = L[i][:i] # coefficients in L on the current row, but to the left of the diagonal\n",
    "        summedTerms = 0\n",
    "        for j in range(len(li_left)):\n",
    "            summedTerms ^= li_left[j] & x[j][0] # += lij * xj0\n",
    "            \n",
    "        bi = b[i][0]\n",
    "        xi = bi ^ summedTerms # no need to divide by lii, as it has to be \"1s\" on the diagonal\n",
    "        x[i] = np.array([xi],dtype=np.int8)\n",
    "\n",
    "    return x\n",
    "\n",
    "l=np.array([[1,0,0,0],[0,1,0,0],[1,1,1,0],[1,0,1,1]],dtype=np.int8)\n",
    "b=np.array([[1,],[1],[0],[0]],dtype=np.int8)\n",
    "\n",
    "fsolve(l,b)"
   ]
  },
  {
   "cell_type": "markdown",
   "metadata": {},
   "source": [
    "b) Write a function `rsolve`."
   ]
  },
  {
   "cell_type": "code",
   "execution_count": 151,
   "metadata": {},
   "outputs": [
    {
     "data": {
      "text/plain": [
       "array([[0],\n",
       "       [1],\n",
       "       [0],\n",
       "       [0]], dtype=int8)"
      ]
     },
     "execution_count": 151,
     "metadata": {},
     "output_type": "execute_result"
    }
   ],
   "source": [
    "def rsolve(L, b, no_singular=True):\n",
    "    # check L and B are binary\n",
    "    if is_not_binary_matrix(L) or is_not_binary_matrix(b):\n",
    "        print(\"We work with binary digits, L or b is not right!\")\n",
    "        sys.exit()\n",
    "    \n",
    "    # check L\n",
    "    for i in range(len(L)):\n",
    "        row = L[i]\n",
    "        \n",
    "        if no_singular and row[i] == 0:\n",
    "            print(\"Diagonal element == 0; singular matrices are not accepted!\")\n",
    "            sys.exit()\n",
    "        \n",
    "        if np.any(row[:i] != 0):\n",
    "            print(\"This is not a valid upper triangular matrix!\")\n",
    "            sys.exit()\n",
    "    \n",
    "    # check b\n",
    "    if b.shape != (len(L), 1):\n",
    "        print(\"b should be a vector of length {}\".format(len(L)))\n",
    "        sys.exit()\n",
    "\n",
    "    # solve Lx = b\n",
    "    x = np.zeros((len(b),1),dtype=np.int8)\n",
    "    for i in reversed(range(len(L))):\n",
    "        li_right = L[i][i+1:] # coefficients in L on the current row, but to the right of the diagonal\n",
    "        summedTerms = 0\n",
    "        for j in range(len(li_right)):\n",
    "            summedTerms ^= li_right[j] & x[i+j+1][0] # we need to do x[i+j+1] to get the right index in `x`, because `li_right` is dephased\n",
    "            \n",
    "        bi = b[i][0]\n",
    "        xi = bi ^ summedTerms # no need to divide by lii, as it has to be \"1s\" on the diagonal\n",
    "        x[i] = np.array([xi],dtype=np.int8)\n",
    "\n",
    "    return x\n",
    "\n",
    "u=np.array([[1,1,1,1],[0,1,1,1],[0,0,1,1],[0,0,0,1]],dtype=np.int8)\n",
    "\n",
    "rsolve(u,b)"
   ]
  },
  {
   "cell_type": "markdown",
   "metadata": {},
   "source": [
    "c) Write a program to calculate the LU factorization with partial pivoting."
   ]
  },
  {
   "cell_type": "code",
   "execution_count": 762,
   "metadata": {},
   "outputs": [
    {
     "data": {
      "text/plain": [
       "(array([[1, 0, 0, 0],\n",
       "        [0, 1, 0, 0],\n",
       "        [0, 0, 1, 0],\n",
       "        [0, 0, 0, 1]], dtype=int8), array([[1, 0, 0, 0],\n",
       "        [1, 1, 0, 0],\n",
       "        [0, 1, 1, 0],\n",
       "        [1, 0, 1, 1]], dtype=int8), array([[1, 0, 0, 1],\n",
       "        [0, 1, 0, 1],\n",
       "        [0, 0, 1, 0],\n",
       "        [0, 0, 0, 1]], dtype=int8))"
      ]
     },
     "execution_count": 762,
     "metadata": {},
     "output_type": "execute_result"
    }
   ],
   "source": [
    "def get_PLU(A):\n",
    "    n = len(A)\n",
    "    P = np.identity(n, dtype=np.int8)\n",
    "    L = np.identity(n, dtype=np.int8)\n",
    "    U = A.copy()\n",
    "\n",
    "    for j in range(n-1):\n",
    "        # Select row index i >=j that has the biggest U[i][j]\n",
    "        max_i = j\n",
    "        for i in range(j, n):\n",
    "            if U[i][j] > U[max_i][j]:\n",
    "                max_i = i\n",
    "    \n",
    "        # Note: swaps have to copy, because the native swap of Python does not work with numpy matrices\n",
    "        # swap U\n",
    "        tmp_U_submatrix = np.copy(U[j][j:n])\n",
    "        U[j][j:n] = U[max_i][j:n]\n",
    "        U[max_i][j:n] = tmp_U_submatrix\n",
    "        \n",
    "        # Note: swaps have to copy, because the native swap of Python does not work with numpy matrices\n",
    "        # swap L\n",
    "        tmp_L_submatrix = np.copy(L[j][0:j])\n",
    "        L[j][0:j] = L[max_i][0:j]\n",
    "        L[max_i][0:j] = tmp_L_submatrix\n",
    "        \n",
    "        # swap P\n",
    "        P[[max_i,j]] = P[[j,max_i]]\n",
    "        \n",
    "        # Reduce values in U, and update L correspondingly\n",
    "        for i in range(j+1, n):\n",
    "            L[i][j] = U[i][j]\n",
    "\n",
    "            for k in range(j,n):\n",
    "                U[i][k] ^= L[i][j] & U[j][k]\n",
    "    \n",
    "    return (P, L, U)\n",
    "\n",
    "A1 = np.array([[1,0,0,1],[1,1,0,0],[0,1,1,1],[1,0,1,0]],dtype=np.int8)\n",
    "get_PLU(A1)"
   ]
  },
  {
   "cell_type": "markdown",
   "metadata": {},
   "source": [
    "d) Find the solutions $x$ to both linear systems (small and large)"
   ]
  },
  {
   "cell_type": "code",
   "execution_count": 763,
   "metadata": {},
   "outputs": [
    {
     "data": {
      "text/plain": [
       "(array([[1, 0, 0, 0],\n",
       "        [0, 1, 0, 0],\n",
       "        [0, 0, 1, 0],\n",
       "        [0, 0, 0, 1]], dtype=int8), array([[1, 0, 0, 0],\n",
       "        [1, 1, 0, 0],\n",
       "        [0, 1, 1, 0],\n",
       "        [1, 0, 1, 1]], dtype=int8), array([[1, 0, 0, 1],\n",
       "        [0, 1, 0, 1],\n",
       "        [0, 0, 1, 0],\n",
       "        [0, 0, 0, 1]], dtype=int8), array([[1],\n",
       "        [0],\n",
       "        [0],\n",
       "        [0]], dtype=int8))"
      ]
     },
     "execution_count": 763,
     "metadata": {},
     "output_type": "execute_result"
    }
   ],
   "source": [
    "# taken from the files\n",
    "def bin_mul(c,d):\n",
    "    # Check that the dimensions of the matrices are compatible\n",
    "    (m,n)=c.shape\n",
    "    (nn,p)=d.shape\n",
    "    if n!=nn:\n",
    "        print(\"Matrix size mismatch\")\n",
    "        sys.exit()\n",
    "\n",
    "    # Initalize blank matrix of integer zeros\n",
    "    e=np.zeros((m,p),dtype=np.int8)\n",
    "\n",
    "    # Calculate each term, using \"&\" instead of \"*\" and \"^\" instead of \"+\"\n",
    "    for i in range(m):\n",
    "        for j in range(p):\n",
    "            for k in range(n):\n",
    "                e[i,j]=e[i,j]^(c[i,k]&d[k,j])\n",
    "    return e\n",
    "\n",
    "def LU(A, b, no_singular=True):\n",
    "    P, L, U = get_PLU(A)\n",
    "    \n",
    "    pb = bin_mul(P, b)\n",
    "    y = fsolve(L, pb)\n",
    "    return (P, L, U, rsolve(U, y))\n",
    "\n",
    "b1 = np.array([[1],[1],[0],[1]],dtype=np.int8)\n",
    "LU(A1, b1)"
   ]
  },
  {
   "cell_type": "code",
   "execution_count": 764,
   "metadata": {},
   "outputs": [
    {
     "name": "stdout",
     "output_type": "stream",
     "text": [
      "Ax = b (for small)\n",
      "[[1]\n",
      " [0]\n",
      " [1]\n",
      " [0]\n",
      " [1]\n",
      " [0]\n",
      " [1]\n",
      " [0]\n",
      " [1]\n",
      " [0]\n",
      " [1]\n",
      " [0]\n",
      " [1]\n",
      " [0]]\n",
      "\n",
      "\n",
      "Ax = b (for big)\n",
      "[[0]\n",
      " [1]\n",
      " [1]\n",
      " [0]\n",
      " [1]\n",
      " [0]\n",
      " [1]\n",
      " [0]\n",
      " [0]\n",
      " [0]\n",
      " [1]\n",
      " [0]\n",
      " [1]\n",
      " [0]\n",
      " [0]\n",
      " [0]\n",
      " [1]\n",
      " [0]\n",
      " [1]\n",
      " [0]\n",
      " [0]\n",
      " [0]\n",
      " [1]\n",
      " [0]\n",
      " [0]\n",
      " [0]\n",
      " [0]\n",
      " [0]\n",
      " [1]\n",
      " [0]\n",
      " [1]\n",
      " [0]\n",
      " [0]\n",
      " [0]\n",
      " [0]\n",
      " [0]\n",
      " [1]\n",
      " [0]\n",
      " [0]\n",
      " [0]\n",
      " [1]\n",
      " [0]\n",
      " [1]\n",
      " [0]\n",
      " [0]\n",
      " [0]\n",
      " [1]\n",
      " [0]\n",
      " [0]\n",
      " [0]\n",
      " [0]\n",
      " [0]\n",
      " [1]\n",
      " [0]\n",
      " [0]\n",
      " [0]\n",
      " [0]\n",
      " [0]\n",
      " [1]\n",
      " [0]\n",
      " [1]\n",
      " [0]\n",
      " [0]\n",
      " [0]\n",
      " [0]\n",
      " [0]\n",
      " [1]\n",
      " [0]\n",
      " [0]\n",
      " [0]\n",
      " [1]]\n"
     ]
    }
   ],
   "source": [
    "def read_file_into_matrix(path_to_file):\n",
    "    with open(path_to_file) as f:\n",
    "        content = f.readlines()\n",
    "        return np.array([x.strip().split(\" \") for x in content],dtype=np.int8)\n",
    "        \n",
    "A_small, b_small = read_file_into_matrix(\"a_small.txt\"), read_file_into_matrix(\"b_small.txt\")\n",
    "\n",
    "print(\"Ax = b (for small)\")\n",
    "P_small, L_small, U_small, x_small = LU(A_small, b_small, no_singular=False)\n",
    "print(x_small)\n",
    "print(\"\\n\")\n",
    "\n",
    "A_big, b_big = read_file_into_matrix(\"a_big.txt\"), read_file_into_matrix(\"b_big.txt\")\n",
    "\n",
    "print(\"Ax = b (for big)\")\n",
    "P_big, L_big, U_big, x_big = LU(A_big, b_big, no_singular=False)\n",
    "print(x_big)"
   ]
  },
  {
   "cell_type": "markdown",
   "metadata": {},
   "source": [
    "### Question 3: The light game\n",
    "\n",
    "a) Write a program that creates a 49x49 binary matrix $A$ such that $Ax = b$"
   ]
  },
  {
   "cell_type": "code",
   "execution_count": 765,
   "metadata": {},
   "outputs": [
    {
     "data": {
      "text/plain": [
       "Text(0.5,1,'Representation of grid A: similar to the one on Piazza')"
      ]
     },
     "execution_count": 765,
     "metadata": {},
     "output_type": "execute_result"
    },
    {
     "data": {
      "image/png": "[encoded data removed]",
      "text/plain": [
       "<Figure size 432x288 with 1 Axes>"
      ]
     },
     "metadata": {},
     "output_type": "display_data"
    }
   ],
   "source": [
    "def gather_neighbours(i, j, m, n):\n",
    "    neighbours = [i * n + j]\n",
    "    \n",
    "    if i - 1 >= 0:\n",
    "        neighbours.append((i-1) * n + j)\n",
    "    \n",
    "    if j - 1 >= 0:\n",
    "        neighbours.append(i * n + j - 1)\n",
    "        \n",
    "    if j + 1 < n:\n",
    "        neighbours.append(i * n + j + 1)\n",
    "        \n",
    "    if i + 1 < m:\n",
    "        neighbours.append((i+1) * n + j)\n",
    "    \n",
    "    return neighbours\n",
    "\n",
    "def build_grid_A(m=7, n=7):\n",
    "    A = np.zeros((m*n,m*n),dtype=np.int8)\n",
    "\n",
    "    for i in range(m):\n",
    "        for j in range(n):\n",
    "            neighbours = gather_neighbours(i, j, m, n)\n",
    "            \n",
    "            for neighbour in neighbours:\n",
    "                A[i*n+j][neighbour] = 1\n",
    "                \n",
    "    return A\n",
    "\n",
    "gridA = build_grid_A()\n",
    "plt.imshow(gridA, cmap='hot')\n",
    "plt.title(\"Representation of grid A: similar to the one on Piazza\")"
   ]
  },
  {
   "cell_type": "markdown",
   "metadata": {},
   "source": [
    "b) For each of the patterns given below, use your binary LU solver from Question 2 to determine the correct presses."
   ]
  },
  {
   "cell_type": "code",
   "execution_count": 766,
   "metadata": {},
   "outputs": [
    {
     "data": {
      "text/plain": [
       "Text(0.5,1.05,'Case 1')"
      ]
     },
     "execution_count": 766,
     "metadata": {},
     "output_type": "execute_result"
    },
    {
     "data": {
      "image/png": "[encoded data removed]",
      "text/plain": [
       "<Figure size 432x288 with 1 Axes>"
      ]
     },
     "metadata": {},
     "output_type": "display_data"
    }
   ],
   "source": [
    "def build_vector_b(lits):\n",
    "    b = np.zeros((49,1),dtype=np.int8)\n",
    "    \n",
    "    for lit in lits:\n",
    "        b[lit] = 1\n",
    "    \n",
    "    return b\n",
    "\n",
    "b1 = build_vector_b([3, 9, 10, 11, 15, 16, 17, 18, 19, 21, 22, 23, 24, 25, 26, 27, 29, 30, 31, 32, 33, 37, 38, 39, 45])\n",
    "x1 = LU(gridA, b1, no_singular=False)[3]\n",
    "plt.spy(b1.reshape((7,7)))\n",
    "plt.title(\"Case 1\")"
   ]
  },
  {
   "cell_type": "code",
   "execution_count": 767,
   "metadata": {},
   "outputs": [
    {
     "data": {
      "text/plain": [
       "Text(0.5,1.05,'Presses to render Case 1')"
      ]
     },
     "execution_count": 767,
     "metadata": {},
     "output_type": "execute_result"
    },
    {
     "data": {
      "image/png": "[encoded data removed]",
      "text/plain": [
       "<Figure size 432x288 with 1 Axes>"
      ]
     },
     "metadata": {},
     "output_type": "display_data"
    }
   ],
   "source": [
    "plt.spy(x1.reshape((7,7)))\n",
    "plt.title(\"Presses to render Case 1\")"
   ]
  },
  {
   "cell_type": "code",
   "execution_count": 768,
   "metadata": {},
   "outputs": [
    {
     "data": {
      "text/plain": [
       "Text(0.5,1.05,'Case 2')"
      ]
     },
     "execution_count": 768,
     "metadata": {},
     "output_type": "execute_result"
    },
    {
     "data": {
      "image/png": "[encoded data removed]",
      "text/plain": [
       "<Figure size 432x288 with 1 Axes>"
      ]
     },
     "metadata": {},
     "output_type": "display_data"
    }
   ],
   "source": [
    "b2 = build_vector_b([i*7+j for i in range(7) for j in range(7) if (i != 0 and i != 6 and j != 0 and j != 6)])\n",
    "x2 = LU(gridA, b2, no_singular=False)[3]\n",
    "plt.spy(b2.reshape((7,7)))\n",
    "plt.title(\"Case 2\")"
   ]
  },
  {
   "cell_type": "code",
   "execution_count": 769,
   "metadata": {},
   "outputs": [
    {
     "data": {
      "text/plain": [
       "Text(0.5,1.05,'Presses to render Case 2')"
      ]
     },
     "execution_count": 769,
     "metadata": {},
     "output_type": "execute_result"
    },
    {
     "data": {
      "image/png": "[encoded data removed]",
      "text/plain": [
       "<Figure size 432x288 with 1 Axes>"
      ]
     },
     "metadata": {},
     "output_type": "display_data"
    }
   ],
   "source": [
    "plt.spy(x2.reshape((7,7)))\n",
    "plt.title(\"Presses to render Case 2\")"
   ]
  },
  {
   "cell_type": "code",
   "execution_count": 770,
   "metadata": {},
   "outputs": [
    {
     "data": {
      "text/plain": [
       "Text(0.5,1.05,'Case 3')"
      ]
     },
     "execution_count": 770,
     "metadata": {},
     "output_type": "execute_result"
    },
    {
     "data": {
      "image/png": "[encoded data removed]",
      "text/plain": [
       "<Figure size 432x288 with 1 Axes>"
      ]
     },
     "metadata": {},
     "output_type": "display_data"
    }
   ],
   "source": [
    "b3 = build_vector_b([24])\n",
    "x3 = LU(gridA, b3, no_singular=False)[3]\n",
    "plt.spy(b3.reshape((7,7)))\n",
    "plt.title(\"Case 3\")"
   ]
  },
  {
   "cell_type": "code",
   "execution_count": 771,
   "metadata": {
    "scrolled": true
   },
   "outputs": [
    {
     "data": {
      "text/plain": [
       "Text(0.5,1.05,'Presses to render Case 3')"
      ]
     },
     "execution_count": 771,
     "metadata": {},
     "output_type": "execute_result"
    },
    {
     "data": {
      "image/png": "[encoded data removed]",
      "text/plain": [
       "<Figure size 432x288 with 1 Axes>"
      ]
     },
     "metadata": {},
     "output_type": "display_data"
    }
   ],
   "source": [
    "plt.spy(x3.reshape((7,7)))\n",
    "plt.title(\"Presses to render Case 3\")"
   ]
  },
  {
   "cell_type": "code",
   "execution_count": 772,
   "metadata": {},
   "outputs": [
    {
     "data": {
      "text/plain": [
       "Text(0.5,1.05,'Case 4')"
      ]
     },
     "execution_count": 772,
     "metadata": {},
     "output_type": "execute_result"
    },
    {
     "data": {
      "image/png": "[encoded data removed]",
      "text/plain": [
       "<Figure size 432x288 with 1 Axes>"
      ]
     },
     "metadata": {},
     "output_type": "display_data"
    }
   ],
   "source": [
    "b4 = build_vector_b([42])\n",
    "x4 = LU(gridA, b4, no_singular=False)[3]\n",
    "plt.spy(b4.reshape((7,7)))\n",
    "plt.title(\"Case 4\")"
   ]
  },
  {
   "cell_type": "code",
   "execution_count": 773,
   "metadata": {},
   "outputs": [
    {
     "data": {
      "text/plain": [
       "Text(0.5,1.05,'Presses to render Case 4')"
      ]
     },
     "execution_count": 773,
     "metadata": {},
     "output_type": "execute_result"
    },
    {
     "data": {
      "image/png": "[encoded data removed]",
      "text/plain": [
       "<Figure size 432x288 with 1 Axes>"
      ]
     },
     "metadata": {},
     "output_type": "display_data"
    }
   ],
   "source": [
    "plt.spy(x4.reshape((7,7)))\n",
    "plt.title(\"Presses to render Case 4\")"
   ]
  },
  {
   "cell_type": "code",
   "execution_count": 774,
   "metadata": {},
   "outputs": [
    {
     "data": {
      "text/plain": [
       "Text(0.5,1.05,'Case 5')"
      ]
     },
     "execution_count": 774,
     "metadata": {},
     "output_type": "execute_result"
    },
    {
     "data": {
      "image/png": "[encoded data removed]",
      "text/plain": [
       "<Figure size 432x288 with 1 Axes>"
      ]
     },
     "metadata": {},
     "output_type": "display_data"
    }
   ],
   "source": [
    "b5 = build_vector_b([28])\n",
    "x5 = LU(gridA, b5, no_singular=False)[3]\n",
    "plt.spy(b5.reshape((7,7)))\n",
    "plt.title(\"Case 5\")"
   ]
  },
  {
   "cell_type": "code",
   "execution_count": 775,
   "metadata": {},
   "outputs": [
    {
     "data": {
      "text/plain": [
       "Text(0.5,1.05,'Presses to render Case 5')"
      ]
     },
     "execution_count": 775,
     "metadata": {},
     "output_type": "execute_result"
    },
    {
     "data": {
      "image/png": "[encoded data removed]",
      "text/plain": [
       "<Figure size 432x288 with 1 Axes>"
      ]
     },
     "metadata": {},
     "output_type": "display_data"
    }
   ],
   "source": [
    "plt.spy(x5.reshape((7,7)))\n",
    "plt.title(\"Presses to render Case 5\")"
   ]
  },
  {
   "cell_type": "code",
   "execution_count": 776,
   "metadata": {},
   "outputs": [
    {
     "data": {
      "text/plain": [
       "Text(0.5,1.05,'Custom case')"
      ]
     },
     "execution_count": 776,
     "metadata": {},
     "output_type": "execute_result"
    },
    {
     "data": {
      "image/png": "[encoded data removed]",
      "text/plain": [
       "<Figure size 432x288 with 1 Axes>"
      ]
     },
     "metadata": {},
     "output_type": "display_data"
    }
   ],
   "source": [
    "b_custom = build_vector_b([17,23,24,25,31])\n",
    "x_custom = LU(gridA, b_custom, no_singular=False)[3]\n",
    "plt.spy(b_custom.reshape((7,7)))\n",
    "plt.title(\"Custom case\")"
   ]
  },
  {
   "cell_type": "code",
   "execution_count": 777,
   "metadata": {},
   "outputs": [
    {
     "data": {
      "text/plain": [
       "Text(0.5,1.05,'Presses to render Custom case')"
      ]
     },
     "execution_count": 777,
     "metadata": {},
     "output_type": "execute_result"
    },
    {
     "data": {
      "image/png": "[encoded data removed]",
      "text/plain": [
       "<Figure size 432x288 with 1 Axes>"
      ]
     },
     "metadata": {},
     "output_type": "display_data"
    }
   ],
   "source": [
    "plt.spy(x_custom.reshape((7,7)))\n",
    "plt.title(\"Presses to render Custom case\")"
   ]
  },
  {
   "cell_type": "markdown",
   "metadata": {},
   "source": [
    "c) Determine the dimension of the null space for each $mxn$ grid with $m,n \\in \\{1,2,...,9\\}$"
   ]
  },
  {
   "cell_type": "code",
   "execution_count": 286,
   "metadata": {},
   "outputs": [
    {
     "name": "stdout",
     "output_type": "stream",
     "text": [
      "Dimension of null space of grid (1,1): 0\n",
      "\n",
      "Dimension of null space of grid (1,2): 1\n",
      "\n",
      "Dimension of null space of grid (1,3): 0\n",
      "\n",
      "Dimension of null space of grid (1,4): 0\n",
      "\n",
      "Dimension of null space of grid (1,5): 1\n",
      "\n",
      "Dimension of null space of grid (1,6): 0\n",
      "\n",
      "Dimension of null space of grid (1,7): 0\n",
      "\n",
      "Dimension of null space of grid (1,8): 1\n",
      "\n",
      "Dimension of null space of grid (1,9): 0\n",
      "\n",
      "Dimension of null space of grid (2,1): 1\n",
      "\n",
      "Dimension of null space of grid (2,2): 0\n",
      "\n",
      "Dimension of null space of grid (2,3): 1\n",
      "\n",
      "Dimension of null space of grid (2,4): 0\n",
      "\n",
      "Dimension of null space of grid (2,5): 1\n",
      "\n",
      "Dimension of null space of grid (2,6): 0\n",
      "\n",
      "Dimension of null space of grid (2,7): 1\n",
      "\n",
      "Dimension of null space of grid (2,8): 0\n",
      "\n",
      "Dimension of null space of grid (2,9): 1\n",
      "\n",
      "Dimension of null space of grid (3,1): 0\n",
      "\n",
      "Dimension of null space of grid (3,2): 1\n",
      "\n",
      "Dimension of null space of grid (3,3): 0\n",
      "\n",
      "Dimension of null space of grid (3,4): 0\n",
      "\n",
      "Dimension of null space of grid (3,5): 1\n",
      "\n",
      "Dimension of null space of grid (3,6): 0\n",
      "\n",
      "Dimension of null space of grid (3,7): 0\n",
      "\n",
      "Dimension of null space of grid (3,8): 1\n",
      "\n",
      "Dimension of null space of grid (3,9): 0\n",
      "\n",
      "Dimension of null space of grid (4,1): 0\n",
      "\n",
      "Dimension of null space of grid (4,2): 0\n",
      "\n",
      "Dimension of null space of grid (4,3): 0\n",
      "\n",
      "Dimension of null space of grid (4,4): 2\n",
      "\n",
      "Dimension of null space of grid (4,5): 0\n",
      "\n",
      "Dimension of null space of grid (4,6): 0\n",
      "\n",
      "Dimension of null space of grid (4,7): 0\n",
      "\n",
      "Dimension of null space of grid (4,8): 0\n",
      "\n",
      "Dimension of null space of grid (4,9): 2\n",
      "\n",
      "Dimension of null space of grid (5,1): 1\n",
      "\n",
      "Dimension of null space of grid (5,2): 1\n",
      "\n",
      "Dimension of null space of grid (5,3): 1\n",
      "\n",
      "Dimension of null space of grid (5,4): 0\n",
      "\n",
      "Dimension of null space of grid (5,5): 2\n",
      "\n",
      "Dimension of null space of grid (5,6): 0\n",
      "\n",
      "Dimension of null space of grid (5,7): 1\n",
      "\n",
      "Dimension of null space of grid (5,8): 1\n",
      "\n",
      "Dimension of null space of grid (5,9): 1\n",
      "\n",
      "Dimension of null space of grid (6,1): 0\n",
      "\n",
      "Dimension of null space of grid (6,2): 0\n",
      "\n",
      "Dimension of null space of grid (6,3): 0\n",
      "\n",
      "Dimension of null space of grid (6,4): 0\n",
      "\n",
      "Dimension of null space of grid (6,5): 0\n",
      "\n",
      "Dimension of null space of grid (6,6): 0\n",
      "\n",
      "Dimension of null space of grid (6,7): 0\n",
      "\n",
      "Dimension of null space of grid (6,8): 0\n",
      "\n",
      "Dimension of null space of grid (6,9): 0\n",
      "\n",
      "Dimension of null space of grid (7,1): 0\n",
      "\n",
      "Dimension of null space of grid (7,2): 1\n",
      "\n",
      "Dimension of null space of grid (7,3): 0\n",
      "\n",
      "Dimension of null space of grid (7,4): 0\n",
      "\n",
      "Dimension of null space of grid (7,5): 1\n",
      "\n",
      "Dimension of null space of grid (7,6): 0\n",
      "\n",
      "Dimension of null space of grid (7,7): 0\n",
      "\n",
      "Dimension of null space of grid (7,8): 1\n",
      "\n",
      "Dimension of null space of grid (7,9): 0\n",
      "\n",
      "Dimension of null space of grid (8,1): 1\n",
      "\n",
      "Dimension of null space of grid (8,2): 0\n",
      "\n",
      "Dimension of null space of grid (8,3): 1\n",
      "\n",
      "Dimension of null space of grid (8,4): 0\n",
      "\n",
      "Dimension of null space of grid (8,5): 1\n",
      "\n",
      "Dimension of null space of grid (8,6): 0\n",
      "\n",
      "Dimension of null space of grid (8,7): 1\n",
      "\n",
      "Dimension of null space of grid (8,8): 0\n",
      "\n",
      "Dimension of null space of grid (8,9): 1\n",
      "\n",
      "Dimension of null space of grid (9,1): 0\n",
      "\n",
      "Dimension of null space of grid (9,2): 1\n",
      "\n",
      "Dimension of null space of grid (9,3): 0\n",
      "\n",
      "Dimension of null space of grid (9,4): 2\n",
      "\n",
      "Dimension of null space of grid (9,5): 1\n",
      "\n",
      "Dimension of null space of grid (9,6): 0\n",
      "\n",
      "Dimension of null space of grid (9,7): 0\n",
      "\n",
      "Dimension of null space of grid (9,8): 1\n",
      "\n",
      "Dimension of null space of grid (9,9): 2\n",
      "\n"
     ]
    }
   ],
   "source": [
    "for i in range(1,10):\n",
    "    for j in range(1,10):\n",
    "        rankA = np.linalg.matrix_rank(build_grid_A(i, j))\n",
    "        dimNullSpace = i*j - rankA # according to problem description\n",
    "        print(\"Dimension of null space of grid ({},{}): {}\\n\".format(i, j, dimNullSpace))"
   ]
  },
  {
   "cell_type": "markdown",
   "metadata": {},
   "source": [
    "### Question 4: Difficult cases for LU factorization\n",
    "\n",
    "a) Write a function `generate_g` that returns $G_n$."
   ]
  },
  {
   "cell_type": "code",
   "execution_count": 294,
   "metadata": {},
   "outputs": [
    {
     "data": {
      "text/plain": [
       "array([[ 1,  0,  0,  0,  0,  0,  0,  0,  1],\n",
       "       [-1,  1,  0,  0,  0,  0,  0,  0,  1],\n",
       "       [-1, -1,  1,  0,  0,  0,  0,  0,  1],\n",
       "       [-1, -1, -1,  1,  0,  0,  0,  0,  1],\n",
       "       [-1, -1, -1, -1,  1,  0,  0,  0,  1],\n",
       "       [-1, -1, -1, -1, -1,  1,  0,  0,  1],\n",
       "       [-1, -1, -1, -1, -1, -1,  1,  0,  1],\n",
       "       [-1, -1, -1, -1, -1, -1, -1,  1,  1],\n",
       "       [-1, -1, -1, -1, -1, -1, -1, -1,  1]], dtype=int8)"
      ]
     },
     "execution_count": 294,
     "metadata": {},
     "output_type": "execute_result"
    }
   ],
   "source": [
    "def generate_g(n):\n",
    "    Gn = np.identity(n,dtype=np.int8)\n",
    "    \n",
    "    for i in range(n):\n",
    "        for j in range(n):\n",
    "            if i == j: # do nothing on the diagonal\n",
    "                continue\n",
    "                \n",
    "            if i == n-1: # last row\n",
    "                Gn[i][j] = -1                \n",
    "            elif j == n-1: # last column\n",
    "                Gn[i][j] = 1 \n",
    "            elif j <  i: # lower triangle\n",
    "                Gn[i][j] = -1\n",
    "                \n",
    "    return Gn\n",
    "\n",
    "generate_g(9)"
   ]
  },
  {
   "cell_type": "markdown",
   "metadata": {},
   "source": [
    "b) Measure time execution of `generate_g` for $n=10,20,...,1000$."
   ]
  },
  {
   "cell_type": "code",
   "execution_count": 309,
   "metadata": {},
   "outputs": [],
   "source": [
    "from time import time\n",
    "ns = np.linspace(10, 1000, 100,dtype=np.int)\n",
    "g_times = []\n",
    "for n in ns:\n",
    "    start_time = time()\n",
    "    g = generate_g(n)\n",
    "    elapsed_time = time() - start_time\n",
    "    \n",
    "    g_times.append(elapsed_time)"
   ]
  },
  {
   "cell_type": "code",
   "execution_count": 321,
   "metadata": {},
   "outputs": [
    {
     "data": {
      "text/plain": [
       "<matplotlib.legend.Legend at 0x1a233f3e48>"
      ]
     },
     "execution_count": 321,
     "metadata": {},
     "output_type": "execute_result"
    },
    {
     "data": {
      "image/png": "[encoded data removed]",
      "text/plain": [
       "<Figure size 432x288 with 1 Axes>"
      ]
     },
     "metadata": {},
     "output_type": "display_data"
    }
   ],
   "source": [
    "g_alpha = 0.00000073\n",
    "g_beta = 2\n",
    "g_approximation_times = []\n",
    "\n",
    "for n in ns:\n",
    "    g_approximation_times.append(g_alpha * n**g_beta)\n",
    "\n",
    "plt.plot(ns, g_times, label=\"generate_g\")\n",
    "plt.plot(ns, g_approximation_times, alpha=0.7, label=\"approximation of generate_g\")\n",
    "plt.title(\"Execution time of generate_g based on n in seconds\")\n",
    "plt.ylabel(\"Execution time (s)\")\n",
    "plt.xlabel(\"n\")\n",
    "plt.legend()"
   ]
  },
  {
   "cell_type": "markdown",
   "metadata": {},
   "source": [
    "As we can see on the graph, the approximation function is pretty much exactly the same as the real execution time of `generate_g`. The approximation function is $0.00000073 \\cdot n^2$. So $\\alpha=0.00000073$, and $\\beta=2$.\n",
    "\n",
    "The value of $\\beta$ is quite reasonable: we build an identity matrix ($n^2$), then we do two nested loops of size n ($n^2$), where trivial operations occur inside ($1$). `generate_g` is therefore $O(n^2)$, which concurs with the value for $\\beta$."
   ]
  },
  {
   "cell_type": "markdown",
   "metadata": {},
   "source": [
    "c) Solve the system $G_n\\hat{x} = b$ using LU factorization. Plot the 2-norm relative error."
   ]
  },
  {
   "cell_type": "code",
   "execution_count": 359,
   "metadata": {},
   "outputs": [],
   "source": [
    "ns = np.linspace(10, 200, 20,dtype=np.int)\n",
    "two_norm_errs = []\n",
    "\n",
    "for n in ns:\n",
    "    x = np.ones((n, 1),dtype=np.int)\n",
    "    Gn = generate_g(n)\n",
    "    b = Gn.dot(x)\n",
    "    P, L, U = sp.linalg.lu(Gn)\n",
    "    Pb = P.dot(b)\n",
    "    y = sp.linalg.solve_triangular(L, Pb)\n",
    "    x_hat = sp.linalg.solve_triangular(U, y)\n",
    "    two_norm_errs.append(np.linalg.norm(x - x_hat, 2))"
   ]
  },
  {
   "cell_type": "code",
   "execution_count": 360,
   "metadata": {},
   "outputs": [
    {
     "data": {
      "text/plain": [
       "Text(0.5,0,'n')"
      ]
     },
     "execution_count": 360,
     "metadata": {},
     "output_type": "execute_result"
    },
    {
     "data": {
      "image/png": "[encoded data removed]",
      "text/plain": [
       "<Figure size 432x288 with 1 Axes>"
      ]
     },
     "metadata": {},
     "output_type": "display_data"
    }
   ],
   "source": [
    "plt.plot(ns, two_norm_errs)\n",
    "plt.title(\"2-norm relative error\")\n",
    "plt.ylabel(\"Error\")\n",
    "plt.xlabel(\"n\")"
   ]
  },
  {
   "cell_type": "markdown",
   "metadata": {},
   "source": [
    "Gaussian reduction requires a lot of multiplication and division of values resulting in $L$ and $U$. If $n$ grows, then errors are more probable to happen.\n",
    "\n",
    "This topic has been studied in [this paper](http://www.math.sjsu.edu/~foster/geppfail.pdf). They state that the error growth, with significant $n$, even reaches an exponential trend!"
   ]
  },
  {
   "cell_type": "markdown",
   "metadata": {},
   "source": [
    "### Question 5: QR factorization using Givens rotation, applied to a bouncing ball\n",
    "\n",
    "a) Write a program that performs the QR factorization using Givens rotation"
   ]
  },
  {
   "cell_type": "code",
   "execution_count": 379,
   "metadata": {},
   "outputs": [],
   "source": [
    "def build_givens(i, j, a1, a2, m):\n",
    "    c, s = 0, 0\n",
    "    if abs(a1) > abs(a2):\n",
    "        t = a2/a1\n",
    "        c = 1 / np.sqrt(1 + t**2)\n",
    "        s = c * t\n",
    "    else:\n",
    "        tau = a1/a2\n",
    "        s = 1 / np.sqrt(1 + tau**2)\n",
    "        c = s * tau\n",
    "\n",
    "    G = np.identity(m)    \n",
    "    G[i][i] = c\n",
    "    G[j][j] = c\n",
    "    G[i][j] = s\n",
    "    G[j][i] = -s\n",
    "    \n",
    "    return G\n",
    "\n",
    "def QR(A):\n",
    "    m, n = A.shape\n",
    "    R = A.copy()\n",
    "    Q = np.identity(m)\n",
    "    \n",
    "    for k in range(n):\n",
    "        for j in reversed(range(k+1, m)):\n",
    "            if R[j][k] == 0: # no need to anhilate an already null value\n",
    "                continue\n",
    "                \n",
    "            G = build_givens(j, k, R[j][k], R[k][k], m)\n",
    "            R = np.matmul(G,R)\n",
    "            Q = np.matmul(Q, G.T)\n",
    "            \n",
    "    return (Q, R)"
   ]
  },
  {
   "cell_type": "code",
   "execution_count": 391,
   "metadata": {},
   "outputs": [
    {
     "name": "stdout",
     "output_type": "stream",
     "text": [
      "Trial 1: frobenius norm of `A - QR` = 1.6395247537815725e-14\n",
      "Trial 2: frobenius norm of `A - QR` = 1.0524608772637197e-14\n",
      "Trial 3: frobenius norm of `A - QR` = 1.3187961241917077e-14\n",
      "Trial 4: frobenius norm of `A - QR` = 1.1323061538706078e-14\n",
      "Trial 5: frobenius norm of `A - QR` = 6.806468934929472e-15\n",
      "Trial 6: frobenius norm of `A - QR` = 9.680109169485477e-15\n",
      "Trial 7: frobenius norm of `A - QR` = 1.784763800369139e-14\n",
      "Trial 8: frobenius norm of `A - QR` = 7.206643444970893e-15\n",
      "Trial 9: frobenius norm of `A - QR` = 6.6316326555454424e-15\n",
      "Trial 10: frobenius norm of `A - QR` = 5.894697882528171e-15\n"
     ]
    }
   ],
   "source": [
    "for i in range(10):\n",
    "    A = np.random.randint(10, size=(11,7))\n",
    "    Q, R = QR(A)\n",
    "    A_app = np.matmul(Q, R)\n",
    "    print(\"Trial {}: frobenius norm of `A - QR` = {}\".format(i+1, np.linalg.norm(A_app - A, 'fro')))"
   ]
  },
  {
   "cell_type": "markdown",
   "metadata": {},
   "source": [
    "b)\n",
    "\n",
    "i) Using your QR factorization code, fit each of the three different arcs."
   ]
  },
  {
   "cell_type": "code",
   "execution_count": 442,
   "metadata": {},
   "outputs": [
    {
     "name": "stdout",
     "output_type": "stream",
     "text": [
      "For arc 1, we got:\n",
      "alpha=1.3027504119335938\n",
      "beta=0.7810228592039895\n",
      "gamma=0.016103373553735346\n",
      "\n",
      "From this approximated x, we would get the following times (b):\n",
      "[[0.01610337]\n",
      " [0.06609601]\n",
      " [0.12495459]\n",
      " [0.19267911]\n",
      " [0.26926956]\n",
      " [0.35472596]]\n",
      "\n",
      "\n",
      "For arc 2, we got:\n",
      "alpha=4.854153804710756\n",
      "beta=-4.801361203373702\n",
      "gamma=1.3165387049133228\n",
      "\n",
      "From this approximated x, we would get the following times (b):\n",
      "[[0.23069612]\n",
      " [0.16534561]\n",
      " [0.13303031]\n",
      " [0.13375022]\n",
      " [0.16750534]\n",
      " [0.23429568]\n",
      " [0.33412123]]\n",
      "\n",
      "\n",
      "For arc 3, we got:\n",
      "alpha=4.899948144157956\n",
      "beta=-9.065846281102392\n",
      "gamma=4.389288922520125\n",
      "\n",
      "From this approximated x, we would get the following times (b):\n",
      "[[0.33216595]\n",
      " [0.25350765]\n",
      " [0.20819622]\n",
      " [0.19623167]\n",
      " [0.21761398]\n",
      " [0.27234316]\n",
      " [0.36041921]]\n",
      "\n",
      "\n"
     ]
    }
   ],
   "source": [
    "def build_ball_A(times):\n",
    "    A = np.ones((len(times),3))\n",
    "    \n",
    "    for i in range(len(times)):\n",
    "        time = times[i]\n",
    "        A[i][0], A[i][1] = time**2, time\n",
    "    \n",
    "    return A\n",
    "\n",
    "# each arc in its row (values are currently pixels)\n",
    "ball_ys = [[\n",
    "    31.6452217364, 52.4041585445, 107.775599129, 197.422881356, 320.715789474, 337.955035971 # 6x1\n",
    "], [\n",
    "    236.268292683, 169.049204052, 136.072368421, 136.948700866, 171.529282577, 239.911519199, 341.876763876 # 7x1\n",
    "], [\n",
    "    339.846356453, 259.478021978, 213.351943463, 201.063214526, 222.523504274, 278.286053883, 369.234096692 # 7x1\n",
    "]]\n",
    "\n",
    "# change pixels to meters\n",
    "for i in range(len(ball_ys)):\n",
    "    ball_ys[i] = [(42.5 / 43.5) * y / 1000 for y in ball_ys[i]]\n",
    "\n",
    "# time frames separated by arcs\n",
    "ball_times = []\n",
    "time_ctr = 0\n",
    "for arc in ball_ys:\n",
    "    time_arc = []\n",
    "    \n",
    "    for _ in arc:\n",
    "        time_arc.append(time_ctr * 7 / 120)\n",
    "        time_ctr += 1\n",
    "        \n",
    "    ball_times.append(time_arc)\n",
    "    \n",
    "ball_As = [build_ball_A(ball_time) for ball_time in ball_times]\n",
    "\n",
    "\"\"\"\n",
    "x = [alpha, beta, gamma]^T\n",
    "\"\"\"\n",
    "\n",
    "ball_alphas = []\n",
    "ball_betas = []\n",
    "ball_gammas = []\n",
    "for i in range(len(ball_ys)):\n",
    "    numF = len(ball_ys[i]) # how many frames in the arc\n",
    "    Q, R = QR(ball_As[i])\n",
    "    Qtb = np.matmul(Q.T, np.array(ball_ys[i]).reshape(numF,1))\n",
    "    x = np.linalg.lstsq(R, Qtb, rcond=None)[0]\n",
    "    \n",
    "    alpha, beta, gamma = x[0][0], x[1][0], x[2][0]\n",
    "    ball_alphas.append(alpha)\n",
    "    ball_betas.append(beta)\n",
    "    ball_gammas.append(gamma)\n",
    "    print(\"For arc {}, we got:\\nalpha={}\\nbeta={}\\ngamma={}\\n\".format(i+1, alpha, beta, gamma))\n",
    "    print(\"From this approximated x, we would get the following times (b):\\n{}\\n\\n\".format(np.matmul(ball_As[i],x)))"
   ]
  },
  {
   "cell_type": "markdown",
   "metadata": {},
   "source": [
    "ii) Find\n",
    "\n",
    "A) the gravitational acceleration $g$\n",
    "\n",
    "We know that $y''(t) = 2 \\cdot \\alpha = a(t) = g$.\n",
    "\n",
    "So our experimental acceleration would be:\n",
    "$$g_1 = 1.3027504119335938 \\cdot 2 = 2.6055008238671875 \\frac{m}{s^2}$$\n",
    "$$g_2 = 4.854153804710756 \\cdot 2 = 9.708307609421512 \\frac{m}{s^2}$$\n",
    "$$g_3 = 4.899948144157956 \\cdot 2 = 9.799896288315912 \\frac{m}{s^2}$$\n",
    "\n",
    "$g_2$ and $g_3$ are impressively close to the real value of $g$, which is $9.764\\frac{m}{s^2} \\leq g \\leq 9.834 \\frac{m}{2^2}$, according to [Wikipedia](https://en.wikipedia.org/wiki/Gravitational_acceleration).\n",
    "\n",
    "$g_1$ is really not close: it could be explained by the fact that the ball is still in contact with the hand in the first frame or two, which could apply a force (hence, changing the acceleration) on the ball at that time.\n",
    "\n",
    "If we ignore $g_1$, our $\\hat{g}$ is $9.754101948868712 \\frac{m}{s^2}$."
   ]
  },
  {
   "cell_type": "code",
   "execution_count": 470,
   "metadata": {},
   "outputs": [
    {
     "data": {
      "text/plain": [
       "9.754101948868712"
      ]
     },
     "execution_count": 470,
     "metadata": {},
     "output_type": "execute_result"
    }
   ],
   "source": [
    "(9.708307609421512 + 9.799896288315912)/2"
   ]
  },
  {
   "cell_type": "markdown",
   "metadata": {},
   "source": [
    "B) the height *h* at which the ball was dropped\n",
    "\n",
    "First, I will find at which time $t$ the first and second arcs predict the same height. That point in time should be when the ball hits the table top. Then, I will compute the $y$ in the first equation to find the $\\Delta y$ between time 0 and time $t$. Last step is to add the radius of the ball to the $\\Delta y$."
   ]
  },
  {
   "cell_type": "code",
   "execution_count": 456,
   "metadata": {},
   "outputs": [
    {
     "name": "stdout",
     "output_type": "stream",
     "text": [
      "The height h is 348.76712159674094mm\n"
     ]
    }
   ],
   "source": [
    "diff_alpha = ball_alphas[0] - ball_alphas[1]\n",
    "diff_beta = ball_betas[0] - ball_betas[1]\n",
    "diff_gamma = ball_gammas[0] - ball_gammas[1]\n",
    "\n",
    "ball_t = np.roots([diff_alpha, diff_beta, diff_gamma])[1] # [1.28746579, 0.28441537] ... by logic, we know that the first bounce has to be around 0.2~0.3s\n",
    "ball_delta_y = ball_alphas[0] * ball_t**2 + ball_betas[0] * ball_t # gamma term is canceled by `ball_y0 = gamma`\n",
    "print(\"The height h is {}mm\".format(ball_delta_y * 1000 + 42.5/2)) # don't forget radius of the ball"
   ]
  },
  {
   "cell_type": "markdown",
   "metadata": {},
   "source": [
    "c) the coefficient of restitution *e*\n",
    "\n",
    "At time $t$ previously computed, we want to compute $y_1'(t) = v_1(t)$ and compare it to $v_2(t)$. Reckon that $y'(t) = 2 \\cdot \\alpha t + \\beta$."
   ]
  },
  {
   "cell_type": "code",
   "execution_count": 469,
   "metadata": {},
   "outputs": [
    {
     "name": "stdout",
     "output_type": "stream",
     "text": [
      "Coefficient of restitution e is 1.3403936103528462 (first bounce)\n",
      "Coefficient of restitution e is 0.8666908966664176 (second bounce)\n"
     ]
    }
   ],
   "source": [
    "ball_v1 = 2 * ball_alphas[0] * ball_t + ball_betas[0]\n",
    "ball_v2 = 2 * ball_alphas[1] * ball_t + ball_betas[1]\n",
    "\n",
    "print(\"Coefficient of restitution e is {} (first bounce)\".format(abs(ball_v2/ball_v1)))\n",
    "\n",
    "# let's compute `e` for the seond bounce too\n",
    "diff_alpha2 = ball_alphas[1] - ball_alphas[2]\n",
    "diff_beta2 = ball_betas[1] - ball_betas[2]\n",
    "diff_gamma2 = ball_gammas[1] - ball_gammas[2]\n",
    "\n",
    "ball_t2 = np.roots([diff_alpha2, diff_beta2, diff_gamma2])[1] # [92.39632966,  0.72620752] ... by logic, we take the second time\n",
    "ball_v2t2 = 2 * ball_alphas[1] * ball_t2 + ball_betas[1]\n",
    "ball_v3t2 = 2 * ball_alphas[2] * ball_t2 + ball_betas[2]\n",
    "\n",
    "print(\"Coefficient of restitution e is {} (second bounce)\".format(abs(ball_v3t2/ball_v2t2)))"
   ]
  },
  {
   "cell_type": "markdown",
   "metadata": {},
   "source": [
    "Obviously, the first value of *e* makes no sense; it would assume that the ball had more energy after bouncing than before. This is due to the bad value of $\\alpha_1$. The coefficient $e_2$ is reasonable, so let's assume that this value is the real coefficient of restitution."
   ]
  },
  {
   "cell_type": "markdown",
   "metadata": {},
   "source": [
    "iii) Calculate the time in seconds that a ball will come to rest from a height *h*.\n",
    "\n",
    "Pose $\\Delta t_{0,1}$ is the time between the drop and the first bounce, and $\\Delta t_{i,i+1} \\, \\texttt{where} \\, i > 0$ is the time between bounces $i$ and $i+1$. We assume that the bounces take negligeable time.\n",
    "\n",
    "What we are looking for is $\\Delta t = \\Delta t_{0,1} + \\sum_{i=1}^{\\infty}\\Delta t_{i,i+1}$.\n",
    "\n",
    "The speed at the beginning and end of an arc $\\{i,i+1\\}$ are respectively $v_i$ and $-v_i$.\n",
    "\n",
    "$$\\Delta t_{i,i+1} = \\frac{\\Delta v_{i,i+1}}{a} = \\frac{2v_i}{a}$$\n",
    "\n",
    "If we assume that the coefficient of restitution $e$ is constant, then $v_i = e \\cdot v_{\\texttt{just before i}}$. Therefore,\n",
    "\n",
    "$$\\Delta t_{i,i+1} = \\frac{2 \\cdot e \\cdot v_{\\texttt{just before i}}}{a}$$\n",
    "\n",
    "Pose $\\phi = \\frac{2 \\cdot e}{g} \\approx \\frac{ 2 \\cdot 0.8666908966664176}{9.754101948868712} \\approx 0.17770798402756843$. Then,\n",
    "\n",
    "$$\\Delta t_{i,i+1} = \\phi \\cdot v_{\\texttt{just before i}}$$\n",
    "\n",
    "Kinematics says that $\\Delta y = v_0 \\Delta t + \\frac{a\\Delta t^2}{2}$. The initial speed is 0 when we drop the ball, the acceleration is $g$, and $\\Delta y$ is $h$, therefore\n",
    "\n",
    "$$\\Delta t_{0,1} = \\sqrt{\\frac{2h}{g}}$$\n",
    "\n",
    "Again using kinematics, we derive that $v_{\\texttt{just before 1}} = g \\Delta t_{0,1} = g \\sqrt{\\frac{2h}{g}} = \\sqrt{2 \\cdot h \\cdot g}$.\n",
    "\n",
    "Hence, \n",
    "\n",
    "$$\\Delta t_{1,2} = \\phi \\cdot v_{\\texttt{just before 1}}$$\n",
    "\n",
    "$$\\Delta t_{2,3} = \\phi \\cdot v_{\\texttt{just before 2}} = \\phi \\cdot e \\cdot v_{\\texttt{just before 1}} = \\Delta t_{1,2} \\cdot e$$\n",
    "\n",
    "$$\\Delta t_{3,4} = \\phi \\cdot v_{\\texttt{just before 3}} = \\phi \\cdot e \\cdot v_{\\texttt{just before 2}} = \\phi \\cdot e^2 \\cdot v_{\\texttt{just before 1}} = \\Delta t_{1,2} \\cdot e^2$$\n",
    "\n",
    "\n",
    "The pattern is now obvious: we have a geometric series.\n",
    "\n",
    "\n",
    "$$\\sum_{i=1}^{\\infty}\\Delta t_{i,i+1} = \\Delta t_{1,2} + \\Delta t_{1,2} \\cdot e + \\Delta t_{1,2} \\cdot e^2 + ... = \\frac{\\Delta t_{1,2}}{1 - e}$$\n",
    "\n",
    "Therefore,\n",
    "\n",
    "$$\\Delta t = \\Delta t_{0,1} + \\frac{\\Delta t_{1,2}}{1 - e}$$\n",
    "\n",
    "$$\\Delta t = \\sqrt{\\frac{2h}{g}} + \\frac{\\phi \\cdot \\sqrt{2 \\cdot h \\cdot g}}{1 - e} \\approx 0.4528155710424668\\sqrt{h} + 5.887836966531418\\sqrt{h} \\approx 6.3406525375738845\\sqrt{h} \\, \\texttt{seconds}$$"
   ]
  }
 ],
 "metadata": {
  "kernelspec": {
   "display_name": "Python 3",
   "language": "python",
   "name": "python3"
  },
  "language_info": {
   "codemirror_mode": {
    "name": "ipython",
    "version": 3
   },
   "file_extension": ".py",
   "mimetype": "text/x-python",
   "name": "python",
   "nbconvert_exporter": "python",
   "pygments_lexer": "ipython3",
   "version": "3.6.5"
  }
 },
 "nbformat": 4,
 "nbformat_minor": 2
}
