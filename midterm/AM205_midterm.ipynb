{
 "cells": [
  {
   "cell_type": "markdown",
   "metadata": {},
   "source": [
    "# AM 205 - Midterm\n",
    "\n",
    "## By Jonathan Guillotte-Blouin"
   ]
  },
  {
   "cell_type": "code",
   "execution_count": 28,
   "metadata": {},
   "outputs": [],
   "source": [
    "import numpy as np"
   ]
  },
  {
   "cell_type": "markdown",
   "metadata": {},
   "source": [
    "### Question 1: A stencil based on least squares\n",
    "\n",
    "#### a) Calculate the coefficients $a_{-1}$, $a_0$, $a_1$, $a_2$, and $a_3$ to make a fourth-order accurate finite-difference formula."
   ]
  },
  {
   "cell_type": "markdown",
   "metadata": {},
   "source": [
    "To do this, we will use the Lagrange interpolant approach.\n",
    "\n",
    "$$ \\mathcal{L_{-1}}(z) = \\frac{z(z-h)(z-2h)(z-3h)}{(-h)(-2h)(-3h)(-4h)} = \\frac{z^4 - 6hz^3 + 11h^2z^2 - 6h^3z}{24h^4}$$\n",
    "\n",
    "$$ \\mathcal{L_{0}}(z) = \\frac{(z+h)(z-h)(z-2h)(z-3h)}{h(-h)(-2h)(-3h)} = -\\frac{z^4 - 5hz^3 + 5h^2z^2 + 5h^3z - 6h^4}{6h^4}$$\n",
    "\n",
    "$$ \\mathcal{L_{1}}(z) = \\frac{(z+h)z(z-2h)(z-3h)}{(2h)h(-h)(-2h)} = \\frac{z^4 - 4hz^3 + h^2z^2 + 6h^3z}{4h^4}$$\n",
    "\n",
    "$$ \\mathcal{L_{2}}(z) = \\frac{(z+h)z(z-h)(z-3h)}{(3h)(2h)h(-h)} = -\\frac{z^4 - 3hz^3 - h^2z^2 + 3h^3z}{6h^4}$$\n",
    "\n",
    "$$ \\mathcal{L_{3}}(z) = \\frac{(z+h)z(z-h)(z-2h)}{(4h)(3h)(2h)h} = \\frac{z^4 - 2hz^3 - h^2z^2 + 2h^3z}{24h^4}$$"
   ]
  },
  {
   "cell_type": "markdown",
   "metadata": {},
   "source": [
    "$$ l'(z) = \\mathcal{L'_{-1}}(z) \\, f_{k-1} + \\mathcal{L'_{0}}(z) \\, f_k + \\mathcal{L'_{1}}(z) \\, f_{k+1} + \\mathcal{L'_{2}}(z) \\, f_{k+2} + \\mathcal{L'_{3}}(z) \\, f_{k+3} $$\n",
    "\n",
    "$$ f'_{diff1}(x_k) = l'(0) = \\frac{\\frac{-1}{4} \\, f_{k-1} + \\frac{-5}{6} \\, f_k  + \\frac{3}{2} \\, f_{k+1} + \\frac{-1}{2} \\, f_{k+2} + \\frac{1}{12} \\, f_{k+3}}{h} $$"
   ]
  },
  {
   "cell_type": "markdown",
   "metadata": {},
   "source": [
    "#### b) Find the least squares best-fit quadratic through the same points."
   ]
  },
  {
   "cell_type": "code",
   "execution_count": 62,
   "metadata": {
    "scrolled": true
   },
   "outputs": [
    {
     "data": {
      "text/plain": [
       "0.3491110975900282"
      ]
     },
     "execution_count": 62,
     "metadata": {},
     "output_type": "execute_result"
    }
   ],
   "source": [
    "def f_prime_diff2(k, xks, yks, N):\n",
    "    xs = [xks[k-1], xks[k], xks[(k+1) % N], xks[(k+2) % N], xks[(k+3) % N]]\n",
    "    b = [yks[k-1], yks[k], yks[(k+1) % N], yks[(k+2) % N], yks[(k+3) % N]]\n",
    "    A = np.fliplr(np.vander(xs, 3))\n",
    "    _, beta, gamma = np.linalg.lstsq(A, b, rcond=None)[0]\n",
    "    \n",
    "    return beta + 2 * gamma * xks[k]"
   ]
  },
  {
   "cell_type": "code",
   "execution_count": 56,
   "metadata": {},
   "outputs": [
    {
     "data": {
      "text/plain": [
       "array([[ 1,  1,  1],\n",
       "       [ 1,  2,  4],\n",
       "       [ 1,  3,  9],\n",
       "       [ 1,  4, 16],\n",
       "       [ 1,  5, 25]])"
      ]
     },
     "execution_count": 56,
     "metadata": {},
     "output_type": "execute_result"
    }
   ],
   "source": [
    "np.fliplr(np.vander([1,2,3,4,5], 3))"
   ]
  },
  {
   "cell_type": "markdown",
   "metadata": {},
   "source": [
    "#### c) Which method gives a more accurate result?"
   ]
  },
  {
   "cell_type": "markdown",
   "metadata": {},
   "source": [
    "$$f'(x_k) = 3\\sin(x_k)e^{3\\cos(x_k)} \\sin\\left(e^{3\\cos(x_k)}\\right)$$"
   ]
  },
  {
   "cell_type": "code",
   "execution_count": 66,
   "metadata": {},
   "outputs": [
    {
     "name": "stdout",
     "output_type": "stream",
     "text": [
      "E1: 6.646095327302529e-05\n",
      "E2: 0.018548785431120516\n"
     ]
    }
   ],
   "source": [
    "N = 1024\n",
    "h = 2*np.pi/N\n",
    "xks = [k*h for k in range(N)]\n",
    "f_xk = lambda xk: np.cos(np.e**(3*np.cos(xk)))\n",
    "f_prime_xk = lambda xk: 3 * np.sin(xk) * (np.e**(3*np.cos(xk))) * np.sin(np.e**(3*np.cos(xk)))\n",
    "fk = [f_xk(xk) for xk in xks]\n",
    "gk = [fk[i] + 1e-4 * np.random.normal(0, 1) for i in range(N)]\n",
    "\n",
    "def f_prime_diff1(k, h, fk):\n",
    "    numerator = (-1/4 * fk[k-1]) + (-5/6 * fk[k]) + (3/2 * fk[(k+1) % N]) + (-1/2 * fk[(k+2) % N]) + (1/12 * fk[(k+3) %N])\n",
    "    return numerator / h\n",
    "\n",
    "    \n",
    "\n",
    "E1, E12, E2, E22 = 0, 0, 0, 0\n",
    "for k in range(N):\n",
    "    xk = k*h\n",
    "    f_prime_result = f_prime_xk(xk)\n",
    "    \n",
    "    E1 += (f_prime_result - f_prime_diff1(k, h, fk))**2\n",
    "    E12 += (f_prime_result - f_prime_diff1(k, h, gk))**2\n",
    "    \n",
    "    E2 += (f_prime_result - f_prime_diff2(k, xks, fk, N))**2\n",
    "    E22 += (f_prime_result - f_prime_diff2(k, xks, gk, N))**2\n",
    "E1 = np.sqrt(E1/N)\n",
    "E12 = np.sqrt(E12/N)\n",
    "E2 = np.sqrt(E2/N)\n",
    "E22 = np.sqrt(E22/N)\n",
    "\n",
    "print(\"E1:\", E1)\n",
    "print(\"E2:\", E2)"
   ]
  },
  {
   "cell_type": "markdown",
   "metadata": {},
   "source": [
    "From these results, it looks like the first method (quartic) is more accurate."
   ]
  },
  {
   "cell_type": "markdown",
   "metadata": {},
   "source": [
    "#### d) Calculate the new accuracies $E_1$ and $E_2$ using noisy value points $g_k = f_k + 10^{-4}z_k$."
   ]
  },
  {
   "cell_type": "code",
   "execution_count": 67,
   "metadata": {},
   "outputs": [
    {
     "name": "stdout",
     "output_type": "stream",
     "text": [
      "E1 (with gk rather than fk): 0.03186233642293499\n",
      "E2 (with gk rather than fk): 0.021227370696174367\n"
     ]
    }
   ],
   "source": [
    "print(\"E1 (with gk rather than fk):\", E12)\n",
    "print(\"E2 (with gk rather than fk):\", E22)"
   ]
  },
  {
   "cell_type": "markdown",
   "metadata": {},
   "source": [
    "From these results using noisy data, it looks like the second method (least squares quadratic) is more accurate.\n",
    "\n",
    "I think the results from *c)* and *d)* make sense: least squares is an approximation, and so it is understandable that it is less precise than the exact quartic method. However, the exact quartic method does not handle well noisy data (it expects the real data to compute), while least squares is itself an approximation, and so it should be less affected by erronoeus data points."
   ]
  },
  {
   "cell_type": "code",
   "execution_count": null,
   "metadata": {},
   "outputs": [],
   "source": []
  }
 ],
 "metadata": {
  "kernelspec": {
   "display_name": "Python 3",
   "language": "python",
   "name": "python3"
  },
  "language_info": {
   "codemirror_mode": {
    "name": "ipython",
    "version": 3
   },
   "file_extension": ".py",
   "mimetype": "text/x-python",
   "name": "python",
   "nbconvert_exporter": "python",
   "pygments_lexer": "ipython3",
   "version": "3.6.5"
  }
 },
 "nbformat": 4,
 "nbformat_minor": 2
}
